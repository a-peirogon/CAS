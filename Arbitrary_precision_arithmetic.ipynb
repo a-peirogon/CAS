{
  "cells": [
    {
      "cell_type": "markdown",
      "metadata": {
        "id": "eq_Qe6A6DJzp"
      },
      "source": [
        "# ***Álgebra abstracta y computacional***\n",
        "<span style='font-size:large'>**Facultad de Ciencias**</span>\n",
        "\n",
        "<span style='font-size:large'>**Universidad Nacional de Colombia**</span>\n",
        "\n",
        "<span style='font-size:large'>**Bogotá, Colombia**</span>\n",
        "\n",
        "<span style='font-size:large'>**17 de junio de 2025**</span>"
      ]
    },
    {
      "cell_type": "markdown",
      "metadata": {
        "id": "wG30ThmqeGvm"
      },
      "source": [
        "# ***Aritmética de grandes números empleando listas enlazadas***"
      ]
    },
    {
      "cell_type": "markdown",
      "metadata": {
        "id": "pVpSEMkCeanF"
      },
      "source": [
        "En este proyecto se propone desarrollar en lenguaje C, una biblioteca basada en listas enlazadas para manejar enteros de longitud arbitraria.\n",
        " El sistema incluirá operaciones de suma, resta, multiplicación (tanto clásica como Karatsuba), división en base decimal y división binaria\n",
        " optimizada"
      ]
    },
    {
      "cell_type": "markdown",
      "metadata": {
        "id": "UhydEp7jenVV"
      },
      "source": [
        "##Descripción del proyecto.\n"
      ]
    },
    {
      "cell_type": "markdown",
      "metadata": {
        "id": "cyain2xKeqdl"
      },
      "source": [
        "Este trabajo busca crear un módulo en C que represente números enteros de cualquier tamaño mediante listas enlazadas y proporcione las operaciones aritméticas fundamentales:\n",
        "\n",
        "\n",
        "\n",
        "*   Suma y resta con gestión de acarreo y préstamo.\n",
        "*   Multiplicación mediante el método tradicional y el algoritmo de Karatsuba.\n",
        "*   División larga en notación decimal\n",
        "*   División binaria usando corrimientos y restas sucesivas.\n",
        "\n"
      ]
    },
    {
      "cell_type": "markdown",
      "metadata": {
        "id": "OCnLykBzEG7c"
      },
      "source": [
        "## Introduccion\n",
        "\n"
      ]
    },
    {
      "cell_type": "markdown",
      "metadata": {
        "id": "nYwW6-E2EF_3"
      },
      "source": [
        "Los tipos de datos nativos en C imponen un límite al tamaño de los números. Para superarlo, cada dígito o grupo de\n",
        " dígitos se almacenará en nodos de una lista enlazada. De este\n",
        " modo, se podrá:\n",
        "\n",
        "\n",
        " * Ejecutar aritmética decimal con procedimientos con vencionales y Karatsuba.\n",
        " * Realizar división larga en base 10 mediante estimación de cociente.\n",
        " * Efectuar división a nivel de bits apoyada en desplazamientos y restas condicionales."
      ]
    },
    {
      "cell_type": "markdown",
      "metadata": {
        "id": "b933sdPxeAbH"
      },
      "source": [
        "## Desarrollo del código\n"
      ]
    },
    {
      "cell_type": "code",
      "execution_count": null,
      "metadata": {
        "id": "Ujc12ylNMpt7"
      },
      "outputs": [],
      "source": [
        "%%bash\n",
        "rm -f proyect1.c\n",
        "touch proyect1.c\n"
      ]
    },
    {
      "cell_type": "markdown",
      "metadata": {
        "id": "CoKbJ4r9hgt9"
      },
      "source": [
        "### Definición estructura de BigInt"
      ]
    },
    {
      "cell_type": "code",
      "execution_count": null,
      "metadata": {
        "id": "jGuXcqyJfSVd"
      },
      "outputs": [],
      "source": [
        "%%bash\n",
        "cat << 'EOF' > proyect1.c\n",
        "#include <time.h>\n",
        "#include <stdio.h>\n",
        "#include <stdlib.h>\n",
        "#include <string.h>\n",
        "#include <stdint.h>\n",
        "#include <stddef.h>\n",
        "#include <ctype.h>\n",
        "\n",
        "#define DEC_BASE      1000000000u  // base 10^9\n",
        "#define DEC_DIGITS    9            // dígitos por bloque\n",
        "\n",
        "\n",
        "typedef struct Nodo {\n",
        "    uint32_t valor;       // 0 <= valor < DEC_BASE\n",
        "    struct Nodo *sig;     // siguiente nodo (más significativo)\n",
        "} Nodo;\n",
        "\n",
        "typedef struct {\n",
        "    int signo;\n",
        "    Nodo *cabeza;\n",
        "    size_t longitud;\n",
        "} BigInt;\n",
        "\n",
        "\n",
        "EOF"
      ]
    },
    {
      "cell_type": "code",
      "execution_count": null,
      "metadata": {
        "id": "ahqrfI5H6Mem"
      },
      "outputs": [],
      "source": [
        "%%bash\n",
        "cat << 'EOF' >> proyect1.c\n",
        "BigInt* bg_nuevo(void);\n",
        "void bg_liberar(BigInt *a);\n",
        "void bg_prepend(BigInt *a, uint32_t v);\n",
        "void bg_append(BigInt *a, uint32_t v);\n",
        "BigInt* bg_desde_cadena(const char *s);\n",
        "void printBigInt(const BigInt *a);\n",
        "void printBigIntNodes(const BigInt *a);\n",
        "int bigInt_compare(const BigInt *a, const BigInt *b);\n",
        "void test_tiempos(void);\n",
        "\n",
        "BigInt* sumar(const BigInt *a, const BigInt *b);\n",
        "void test_suma(void);\n",
        "\n",
        "void test_bigInt_compare(void);\n",
        "void test_printBigIntNodes(void);\n",
        "\n",
        "EOF"
      ]
    },
    {
      "cell_type": "markdown",
      "metadata": {
        "id": "s1VPbatOhm6d"
      },
      "source": [
        "### Funcion para crear un nuevo BigInt"
      ]
    },
    {
      "cell_type": "code",
      "execution_count": null,
      "metadata": {
        "id": "tolDQSZ9gn_a"
      },
      "outputs": [],
      "source": [
        "%%bash\n",
        "cat << 'EOF' >> proyect1.c\n",
        "\n",
        "BigInt* bg_nuevo(void) {\n",
        "    BigInt *z = malloc(sizeof(BigInt));\n",
        "    z->signo    = +1;\n",
        "    z->cabeza   = NULL;\n",
        "    z->longitud = 0;\n",
        "    return z;\n",
        "}\n",
        "\n",
        "EOF"
      ]
    },
    {
      "cell_type": "markdown",
      "metadata": {
        "id": "DlF7rqtbh5dQ"
      },
      "source": [
        "### Funcion para liberar la memoria de un BigInt"
      ]
    },
    {
      "cell_type": "code",
      "execution_count": null,
      "metadata": {
        "id": "wtf08HX0mKtV"
      },
      "outputs": [],
      "source": [
        "%%bash\n",
        "cat << 'EOF' >> proyect1.c\n",
        "\n",
        "void bg_liberar(BigInt *a) {\n",
        "    Nodo *p = a->cabeza;\n",
        "    while (p) {\n",
        "        Nodo *s = p->sig;\n",
        "        free(p);\n",
        "        p = s;\n",
        "    }\n",
        "    free(a);\n",
        "}\n",
        "\n",
        "EOF"
      ]
    },
    {
      "cell_type": "markdown",
      "metadata": {
        "id": "9hst8SJuow6F"
      },
      "source": [
        "### Insertar nodo al inicio\n"
      ]
    },
    {
      "cell_type": "code",
      "execution_count": null,
      "metadata": {
        "id": "YExYeC5tmd2m"
      },
      "outputs": [],
      "source": [
        "%%bash\n",
        "cat << 'EOF' >> proyect1.c\n",
        "// Inserta un bloque al inicio (más bajo peso)\n",
        "void bg_prepend(BigInt *a, uint32_t v) {\n",
        "    Nodo *n = malloc(sizeof(Nodo));\n",
        "    n->valor = v;\n",
        "    n->sig   = a->cabeza;\n",
        "    a->cabeza = n;\n",
        "    a->longitud++;\n",
        "}\n",
        "EOF"
      ]
    },
    {
      "cell_type": "markdown",
      "metadata": {
        "id": "IaQUvtlWpd5t"
      },
      "source": [
        "### Insertar nodo al **final**\n"
      ]
    },
    {
      "cell_type": "code",
      "execution_count": null,
      "metadata": {
        "id": "lb_TfFi0mgTd"
      },
      "outputs": [],
      "source": [
        "%%bash\n",
        "cat << 'EOF' >> proyect1.c\n",
        "\n",
        "void bg_append(BigInt *a, uint32_t v) {\n",
        "    Nodo *n = malloc(sizeof(Nodo));\n",
        "    n->valor = v;\n",
        "    n->sig   = NULL;\n",
        "    if (!a->cabeza) {\n",
        "        a->cabeza = n;\n",
        "    } else {\n",
        "        Nodo *q = a->cabeza;\n",
        "        while (q->sig) q = q->sig;\n",
        "        q->sig = n;\n",
        "    }\n",
        "    a->longitud++;\n",
        "}\n",
        "\n",
        "EOF"
      ]
    },
    {
      "cell_type": "markdown",
      "metadata": {
        "id": "VlY-pl_9pf3N"
      },
      "source": [
        "### Construye un BigInt desde una cadena decimal\n",
        "\n"
      ]
    },
    {
      "cell_type": "code",
      "execution_count": null,
      "metadata": {
        "id": "2KlqbV63mhtd"
      },
      "outputs": [],
      "source": [
        "%%bash\n",
        "cat << 'EOF' >> proyect1.c\n",
        "\n",
        "BigInt* bg_desde_cadena(const char *s) {\n",
        "    BigInt *r = bg_nuevo();\n",
        "    if (*s=='+'||*s=='-') {\n",
        "        if (*s=='-') r->signo = -1;\n",
        "        s++;\n",
        "    }\n",
        "    size_t len = strlen(s);\n",
        "    for (int i = (int)len; i > 0; i -= DEC_DIGITS) {\n",
        "        int start = i - DEC_DIGITS;\n",
        "        if (start < 0) start = 0;\n",
        "        char buf[DEC_DIGITS+1] = {0};\n",
        "        memcpy(buf, s + start, i - start);\n",
        "        uint32_t bloque = (uint32_t)atoi(buf);\n",
        "        bg_append(r, bloque);\n",
        "    }\n",
        "    if (r->longitud == 0)\n",
        "        bg_append(r, 0);\n",
        "    return r;\n",
        "}\n",
        "\n",
        "EOF"
      ]
    },
    {
      "cell_type": "markdown",
      "metadata": {
        "id": "CdLcbl71HKvJ"
      },
      "source": [
        "## Imprime BigInt"
      ]
    },
    {
      "cell_type": "code",
      "execution_count": null,
      "metadata": {
        "id": "TVcuzq-y-lMf"
      },
      "outputs": [],
      "source": [
        "%%bash\n",
        "cat << 'EOF' >> proyect1.c\n",
        "\n",
        "void printBigInt(const BigInt *a) {\n",
        "    uint32_t *bloques = malloc(a->longitud * sizeof(uint32_t));\n",
        "    size_t n = 0;\n",
        "    for (Nodo *p = a->cabeza; p; p = p->sig)\n",
        "        bloques[n++] = p->valor;\n",
        "\n",
        "    if (a->signo < 0) putchar('-');\n",
        "    printf(\"%u\", bloques[n-1]);\n",
        "    for (int i = (int)n-2; i >= 0; i--)\n",
        "        printf(\"%09u\", bloques[i]);\n",
        "    putchar('\\n');\n",
        "    free(bloques);\n",
        "}\n",
        "\n",
        "EOF"
      ]
    },
    {
      "cell_type": "markdown",
      "metadata": {
        "id": "Bj-JC3XqHRn6"
      },
      "source": [
        "## Imprime BigInt por nodos"
      ]
    },
    {
      "cell_type": "code",
      "execution_count": null,
      "metadata": {
        "id": "dpeNncKNAyEd"
      },
      "outputs": [],
      "source": [
        "%%bash\n",
        "cat << 'EOF' >> proyect1.c\n",
        "\n",
        "void printBigIntNodes(const BigInt *a) {\n",
        "    int idx = 0;\n",
        "    for (Nodo *p = a->cabeza; p; p = p->sig) {\n",
        "        printf(\"  Nodo %2d: %0*u\\n\",\n",
        "               idx++, DEC_DIGITS, p->valor);\n",
        "    }\n",
        "}\n",
        "\n",
        "EOF"
      ]
    },
    {
      "cell_type": "markdown",
      "metadata": {
        "id": "e728j7K5vAc1"
      },
      "source": [
        "## Comparar dos BigInt"
      ]
    },
    {
      "cell_type": "code",
      "execution_count": null,
      "metadata": {
        "id": "OxDXk6Y2vDve"
      },
      "outputs": [],
      "source": [
        "%%bash\n",
        "cat << 'EOF' >> proyect1.c\n",
        "static int compararMagnitud(const Nodo *na, const Nodo *nb, size_t longitud) {\n",
        "    uint32_t *valores_a = malloc(longitud * sizeof(uint32_t));\n",
        "    uint32_t *valores_b = malloc(longitud * sizeof(uint32_t));\n",
        "\n",
        "    const Nodo *pa = na, *pb = nb;\n",
        "    for (size_t i = 0; i < longitud; i++) {\n",
        "        valores_a[i] = pa->valor;\n",
        "        valores_b[i] = pb->valor;\n",
        "        pa = pa->sig;\n",
        "        pb = pb->sig;\n",
        "    }\n",
        "\n",
        "    for (int i = (int)longitud - 1; i >= 0; i--) {\n",
        "        if (valores_a[i] > valores_b[i]) {\n",
        "            free(valores_a);\n",
        "            free(valores_b);\n",
        "            return 1;\n",
        "        }\n",
        "        if (valores_a[i] < valores_b[i]) {\n",
        "            free(valores_a);\n",
        "            free(valores_b);\n",
        "            return -1;\n",
        "        }\n",
        "    }\n",
        "\n",
        "    free(valores_a);\n",
        "    free(valores_b);\n",
        "    return 0;\n",
        "}\n",
        "\n",
        "int compararBigInt(const BigInt *a, const BigInt *b) {\n",
        "    if (a->signo > b->signo) return 1;\n",
        "    if (a->signo < b->signo) return -1;\n",
        "\n",
        "    if (a->longitud > b->longitud) return a->signo;\n",
        "    if (a->longitud < b->longitud) return -a->signo;\n",
        "\n",
        "    int comparacion = compararMagnitud(a->cabeza, b->cabeza, a->longitud);\n",
        "    return a->signo < 0 ? -comparacion : comparacion;\n",
        "}\n",
        "\n",
        "EOF"
      ]
    },
    {
      "cell_type": "markdown",
      "metadata": {
        "id": "IemlyJA-rjNK"
      },
      "source": [
        "## Función auxiliar suma"
      ]
    },
    {
      "cell_type": "code",
      "execution_count": null,
      "metadata": {
        "id": "S-srZ6ZArjNK"
      },
      "outputs": [],
      "source": [
        "%%bash\n",
        "cat << 'EOF' >> proyect1.c\n",
        "\n",
        "// Función auxiliar para sumar magnitudes (sin considerar signos)\n",
        "static BigInt* sumarMagnitudes(const BigInt *a, const BigInt *b) {\n",
        "    BigInt *resultado = bg_nuevo();\n",
        "    const Nodo *pa = a->cabeza;\n",
        "    const Nodo *pb = b->cabeza;\n",
        "    uint64_t acarreo = 0;\n",
        "\n",
        "    // Sumar mientras ambos nodos existan\n",
        "    while (pa && pb) {\n",
        "        uint64_t suma = (uint64_t)pa->valor + (uint64_t)pb->valor + acarreo;\n",
        "        bg_append(resultado, (uint32_t)(suma % DEC_BASE));\n",
        "        acarreo = suma / DEC_BASE;\n",
        "        pa = pa->sig;\n",
        "        pb = pb->sig;\n",
        "    }\n",
        "\n",
        "    // Procesar nodos restantes de a\n",
        "    while (pa) {\n",
        "        uint64_t suma = (uint64_t)pa->valor + acarreo;\n",
        "        bg_append(resultado, (uint32_t)(suma % DEC_BASE));\n",
        "        acarreo = suma / DEC_BASE;\n",
        "        pa = pa->sig;\n",
        "    }\n",
        "\n",
        "    // Procesar nodos restantes de b\n",
        "    while (pb) {\n",
        "        uint64_t suma = (uint64_t)pb->valor + acarreo;\n",
        "        bg_append(resultado, (uint32_t)(suma % DEC_BASE));\n",
        "        acarreo = suma / DEC_BASE;\n",
        "        pb = pb->sig;\n",
        "    }\n",
        "\n",
        "    // Agregar acarreo final si existe\n",
        "    if (acarreo > 0) {\n",
        "        bg_append(resultado, (uint32_t)acarreo);\n",
        "    }\n",
        "\n",
        "    return resultado;\n",
        "}\n",
        "\n",
        "EOF"
      ]
    },
    {
      "cell_type": "markdown",
      "metadata": {
        "id": "8hv0e8zSrjNK"
      },
      "source": [
        "## Función auxiliar resta"
      ]
    },
    {
      "cell_type": "code",
      "execution_count": null,
      "metadata": {
        "id": "g1JxZgoprjNL"
      },
      "outputs": [],
      "source": [
        "%%bash\n",
        "cat << 'EOF' >> proyect1.c\n",
        "\n",
        "// Función auxiliar para restar magnitudes (a >= b en magnitud)\n",
        "static BigInt* restarMagnitudes(const BigInt *a, const BigInt *b) {\n",
        "    BigInt *resultado = bg_nuevo();\n",
        "    const Nodo *pa = a->cabeza;\n",
        "    const Nodo *pb = b->cabeza;\n",
        "    int64_t prestamo = 0;\n",
        "\n",
        "    // Restar mientras ambos nodos existan\n",
        "    while (pa && pb) {\n",
        "        int64_t resta = (int64_t)pa->valor - (int64_t)pb->valor - prestamo;\n",
        "        if (resta < 0) {\n",
        "            resta += DEC_BASE;\n",
        "            prestamo = 1;\n",
        "        } else {\n",
        "            prestamo = 0;\n",
        "        }\n",
        "        bg_append(resultado, (uint32_t)resta);\n",
        "        pa = pa->sig;\n",
        "        pb = pb->sig;\n",
        "    }\n",
        "\n",
        "    // Procesar nodos restantes de a\n",
        "    while (pa) {\n",
        "        int64_t resta = (int64_t)pa->valor - prestamo;\n",
        "        if (resta < 0) {\n",
        "            resta += DEC_BASE;\n",
        "            prestamo = 1;\n",
        "        } else {\n",
        "            prestamo = 0;\n",
        "        }\n",
        "        bg_append(resultado, (uint32_t)resta);\n",
        "        pa = pa->sig;\n",
        "    }\n",
        "\n",
        "    return resultado;\n",
        "}\n",
        "\n",
        "EOF"
      ]
    },
    {
      "cell_type": "markdown",
      "metadata": {
        "id": "aCrJPJJzrjNL"
      },
      "source": [
        "## Función principal suma"
      ]
    },
    {
      "cell_type": "code",
      "execution_count": null,
      "metadata": {
        "id": "nKrLH-yyrjNL"
      },
      "outputs": [],
      "source": [
        "%%bash\n",
        "cat << 'EOF' >> proyect1.c\n",
        "\n",
        "// Función principal de suma\n",
        "BigInt* sumar(const BigInt *a, const BigInt *b) {\n",
        "    BigInt *resultado;\n",
        "\n",
        "    // Caso 1: Ambos números tienen el mismo signo\n",
        "    if (a->signo == b->signo) {\n",
        "        resultado = sumarMagnitudes(a, b);\n",
        "        resultado->signo = a->signo;\n",
        "    }\n",
        "    // Caso 2: Signos diferentes - efectivamente una resta\n",
        "    else {\n",
        "        // Comparar magnitudes para determinar el resultado\n",
        "        size_t max_len = a->longitud > b->longitud ? a->longitud : b->longitud;\n",
        "\n",
        "        // Expandir temporalmente las listas para comparar\n",
        "        int comparacion;\n",
        "        if (a->longitud > b->longitud) {\n",
        "            comparacion = 1;\n",
        "        } else if (a->longitud < b->longitud) {\n",
        "            comparacion = -1;\n",
        "        } else {\n",
        "            // Misma longitud, comparar nodo por nodo desde el más significativo\n",
        "            comparacion = compararMagnitud(a->cabeza, b->cabeza, max_len);\n",
        "        }\n",
        "\n",
        "        if (comparacion == 0) {\n",
        "            // |a| == |b|, resultado es cero\n",
        "            resultado = bg_nuevo();\n",
        "            bg_append(resultado, 0);\n",
        "        }\n",
        "        else if (comparacion > 0) {\n",
        "            // |a| > |b|\n",
        "            resultado = restarMagnitudes(a, b);\n",
        "            resultado->signo = a->signo;\n",
        "        }\n",
        "        else {\n",
        "            // |a| < |b|\n",
        "            resultado = restarMagnitudes(b, a);\n",
        "            resultado->signo = b->signo;\n",
        "        }\n",
        "    }\n",
        "\n",
        "    return resultado;\n",
        "}\n",
        "\n",
        "EOF"
      ]
    },
    {
      "cell_type": "markdown",
      "metadata": {
        "id": "RWSYlOohL8Fw"
      },
      "source": [
        "## Multiplicación usual"
      ]
    },
    {
      "cell_type": "code",
      "execution_count": null,
      "metadata": {
        "id": "k0DloVkUMCyI"
      },
      "outputs": [],
      "source": [
        "%%bash\n",
        "cat << 'EOF' >> proyect1.c\n",
        "BigInt* multiplicar(const BigInt *a, const BigInt *b) {\n",
        "    BigInt *resultado = bg_nuevo();\n",
        "    bg_append(resultado, 0);\n",
        "\n",
        "    const Nodo *pb = b->cabeza;\n",
        "    int despl_b = 0;\n",
        "\n",
        "    while (pb) {\n",
        "        const Nodo *pa = a->cabeza;\n",
        "        uint64_t acarreo = 0;\n",
        "\n",
        "        BigInt *parcial = bg_nuevo();\n",
        "\n",
        "        for (int i = 0; i < despl_b; i++) {\n",
        "            bg_append(parcial, 0);\n",
        "        }\n",
        "\n",
        "        while (pa) {\n",
        "            uint64_t producto = (uint64_t)pa->valor * (uint64_t)pb->valor + acarreo;\n",
        "            bg_append(parcial, (uint32_t)(producto % DEC_BASE));\n",
        "            acarreo = producto / DEC_BASE;\n",
        "            pa = pa->sig;\n",
        "        }\n",
        "\n",
        "        if (acarreo > 0)\n",
        "            bg_append(parcial, (uint32_t)acarreo);\n",
        "\n",
        "        BigInt *nuevo_res = sumar(resultado, parcial);\n",
        "        bg_liberar(resultado);\n",
        "        bg_liberar(parcial);\n",
        "        resultado = nuevo_res;\n",
        "\n",
        "        pb = pb->sig;\n",
        "        despl_b++;\n",
        "    }\n",
        "\n",
        "    resultado->signo = a->signo * b->signo;\n",
        "    return resultado;\n",
        "}\n",
        "\n",
        "EOF"
      ]
    },
    {
      "cell_type": "markdown",
      "metadata": {
        "id": "_LYu5rl8rjNL"
      },
      "source": [
        "## Karatsuba"
      ]
    },
    {
      "cell_type": "code",
      "execution_count": null,
      "metadata": {
        "id": "rrvqictdrjNL"
      },
      "outputs": [],
      "source": [
        "%%bash\n",
        "cat << 'EOF' >> proyect1.c\n",
        "\n",
        "//Clona un BigInt completo:\n",
        "BigInt* bg_clone(const BigInt *a) {\n",
        "    BigInt *r = bg_nuevo();\n",
        "    r->signo = a->signo;\n",
        "    for (Nodo *p = a->cabeza; p; p = p->sig)\n",
        "        bg_append(r, p->valor);\n",
        "    return r;\n",
        "}\n",
        "\n",
        "//Desplaza un BigInt por 'bloques' posiciones (multiplica por DEC_BASE^bloques):\n",
        "BigInt* bg_shift(const BigInt *a, size_t bloques) {\n",
        "    BigInt *r = bg_clone(a);\n",
        "    for (size_t i = 0; i < bloques; i++)\n",
        "        bg_prepend(r, 0);\n",
        "    return r;\n",
        "}\n",
        "\n",
        "//Suma dos BigInt asumiendo magnitud:\n",
        "BigInt* bg_sumar_magnitud(const BigInt *a, const BigInt *b) {\n",
        "    // Crear copias temporales con signo positivo\n",
        "    BigInt *temp_a = bg_clone(a);\n",
        "    BigInt *temp_b = bg_clone(b);\n",
        "    temp_a->signo = 1;\n",
        "    temp_b->signo = 1;\n",
        "\n",
        "    BigInt *resultado = sumar(temp_a, temp_b);\n",
        "\n",
        "    bg_liberar(temp_a);\n",
        "    bg_liberar(temp_b);\n",
        "    return resultado;\n",
        "}\n",
        "\n",
        "//Resta b de a, asumiendo a >= b en magnitud:\n",
        "BigInt* bg_restar_magnitud(const BigInt *a, const BigInt *b) {\n",
        "    // Crear copias temporales\n",
        "    BigInt *temp_a = bg_clone(a);\n",
        "    BigInt *temp_b = bg_clone(b);\n",
        "    temp_a->signo = 1;\n",
        "    temp_b->signo = -1;  // Hacer b negativo para que suma haga resta\n",
        "\n",
        "    BigInt *resultado = sumar(temp_a, temp_b);\n",
        "\n",
        "    bg_liberar(temp_a);\n",
        "    bg_liberar(temp_b);\n",
        "    return resultado;\n",
        "}\n",
        "\n",
        "// Función para dividir un BigInt en dos partes\n",
        "void bg_split(const BigInt *orig, size_t m, BigInt **pLow, BigInt **pHigh) {\n",
        "    *pLow  = bg_nuevo();\n",
        "    *pHigh = bg_nuevo();\n",
        "    (*pLow)->signo  = orig->signo;\n",
        "    (*pHigh)->signo = orig->signo;\n",
        "\n",
        "    Nodo *p = orig->cabeza;\n",
        "    size_t idx = 0;\n",
        "    while (p) {\n",
        "        if (idx < m)\n",
        "            bg_append(*pLow, p->valor);\n",
        "        else\n",
        "            bg_append(*pHigh, p->valor);\n",
        "        p = p->sig;\n",
        "        idx++;\n",
        "    }\n",
        "\n",
        "    // Si pHigh está vacío, agregar un 0\n",
        "    if ((*pHigh)->longitud == 0) {\n",
        "        bg_append(*pHigh, 0);\n",
        "    }\n",
        "}\n",
        "\n",
        "//Multiplicación con Karatsuba:\n",
        "BigInt* bg_multiplicarKaratsuba(const BigInt *a, const BigInt *b) {\n",
        "    //Caso base: si es muy pequeño, usar naive\n",
        "    const size_t UMBRAL = 2;\n",
        "    if (a->longitud <= UMBRAL || b->longitud <= UMBRAL) {\n",
        "        return multiplicar(a, b);\n",
        "    }\n",
        "\n",
        "    // Usar la longitud del número más grande para m\n",
        "    size_t max_len = (a->longitud > b->longitud) ? a->longitud : b->longitud;\n",
        "    size_t m = max_len / 2;\n",
        "\n",
        "    //Partir a y b en baja/alta:\n",
        "    BigInt *lowA, *highA, *lowB, *highB;\n",
        "    bg_split(a, m, &lowA, &highA);\n",
        "    bg_split(b, m, &lowB, &highB);\n",
        "\n",
        "    //3 productos recursivos\n",
        "    BigInt *z0 = bg_multiplicarKaratsuba(lowA, lowB);        // low * low\n",
        "    BigInt *z2 = bg_multiplicarKaratsuba(highA, highB);      // high * high\n",
        "\n",
        "    // (lowA + highA) * (lowB + highB)\n",
        "    BigInt *sumA = bg_sumar_magnitud(lowA, highA);\n",
        "    BigInt *sumB = bg_sumar_magnitud(lowB, highB);\n",
        "    BigInt *z1_temp = bg_multiplicarKaratsuba(sumA, sumB);\n",
        "\n",
        "    //z1 = z1_temp - z2 - z0\n",
        "    BigInt *temp1 = bg_restar_magnitud(z1_temp, z2);\n",
        "    BigInt *z1 = bg_restar_magnitud(temp1, z0);\n",
        "\n",
        "    //r = z2 * BASE^(2m) + z1 * BASE^m + z0\n",
        "    BigInt *z2_shifted = bg_shift(z2, 2*m);\n",
        "    BigInt *z1_shifted = bg_shift(z1, m);\n",
        "\n",
        "    BigInt *temp_sum1 = sumar(z2_shifted, z1_shifted);\n",
        "    BigInt *resultado = sumar(temp_sum1, z0);\n",
        "\n",
        "    resultado->signo = a->signo * b->signo;\n",
        "\n",
        "    // Liberar memoria\n",
        "    bg_liberar(lowA);  bg_liberar(highA);\n",
        "    bg_liberar(lowB);  bg_liberar(highB);\n",
        "    bg_liberar(z0);    bg_liberar(z2);\n",
        "    bg_liberar(sumA);  bg_liberar(sumB);\n",
        "    bg_liberar(z1_temp); bg_liberar(temp1);\n",
        "    bg_liberar(z1);\n",
        "    bg_liberar(z2_shifted); bg_liberar(z1_shifted);\n",
        "    bg_liberar(temp_sum1);\n",
        "\n",
        "    return resultado;\n",
        "}\n",
        "\n",
        "EOF"
      ]
    },
    {
      "cell_type": "markdown",
      "metadata": {
        "id": "o868Ry6j5gjf"
      },
      "source": [
        "## División larga"
      ]
    },
    {
      "cell_type": "code",
      "execution_count": null,
      "metadata": {
        "id": "EcyL3F_35gjg"
      },
      "outputs": [],
      "source": [
        "%%bash\n",
        "cat << 'EOF' >> proyect1.c\n",
        "\n",
        "// Devuelve 1 si BigInt a es cero\n",
        "int bg_es_cero(const BigInt *a) {\n",
        "    return (a->longitud == 1 && a->cabeza->valor == 0);\n",
        "}\n",
        "\n",
        "// Devuelve un BigInt con valor cero\n",
        "BigInt* bg_cero() {\n",
        "    BigInt *r = bg_nuevo();\n",
        "    bg_append(r, 0);\n",
        "    return r;\n",
        "}\n",
        "\n",
        "// Devuelve un BigInt con valor uno\n",
        "BigInt* bg_uno() {\n",
        "    BigInt *r = bg_nuevo();\n",
        "    bg_append(r, 1);\n",
        "    return r;\n",
        "}\n",
        "\n",
        "// División larga usando multiplicación clásica\n",
        "BigInt* bg_dividir_largo(const BigInt *dividendo, const BigInt *divisor, BigInt **residuo) {\n",
        "    if (bg_es_cero(divisor)) {\n",
        "        fprintf(stderr, \"Error: División por cero\\n\");\n",
        "        exit(1);\n",
        "    }\n",
        "    if (bg_es_cero(dividendo)) {\n",
        "        if (residuo) *residuo = bg_cero();\n",
        "        return bg_cero();\n",
        "    }\n",
        "\n",
        "    BigInt *dividendo_pos = bg_clone(dividendo);\n",
        "    BigInt *divisor_pos = bg_clone(divisor);\n",
        "    dividendo_pos->signo = 1;\n",
        "    divisor_pos->signo = 1;\n",
        "\n",
        "    int cmp = compararBigInt(dividendo_pos, divisor_pos);\n",
        "    if (cmp < 0) {\n",
        "        if (residuo) *residuo = dividendo_pos;\n",
        "        bg_liberar(divisor_pos);\n",
        "        return bg_cero();\n",
        "    }\n",
        "\n",
        "    BigInt *cociente = bg_nuevo();\n",
        "    BigInt *resto = bg_cero();\n",
        "\n",
        "    Nodo *p = dividendo_pos->cabeza;\n",
        "    uint32_t *digitos = malloc(dividendo_pos->longitud * sizeof(uint32_t));\n",
        "    if (!digitos) {\n",
        "        fprintf(stderr, \"Error: no se pudo reservar memoria\\n\");\n",
        "        exit(1);\n",
        "    }\n",
        "    for (size_t i = 0; i < dividendo_pos->longitud; i++) {\n",
        "        digitos[i] = p->valor;\n",
        "        p = p->sig;\n",
        "    }\n",
        "\n",
        "    for (int i = (int)dividendo_pos->longitud - 1; i >= 0; i--) {\n",
        "        BigInt *nuevo_resto = bg_shift(resto, 1);\n",
        "        bg_liberar(resto);\n",
        "        resto = nuevo_resto;\n",
        "\n",
        "        BigInt *extra = bg_nuevo();\n",
        "        bg_append(extra, digitos[i]);\n",
        "        BigInt *tmp = sumar(resto, extra);\n",
        "        bg_liberar(resto);\n",
        "        bg_liberar(extra);\n",
        "        resto = tmp;\n",
        "\n",
        "        // Estimar q\n",
        "        uint32_t q = 0;\n",
        "        if (compararBigInt(resto, divisor_pos) >= 0) {\n",
        "            // Estimar q aproximado\n",
        "            Nodo *r_top = resto->cabeza;\n",
        "            while (r_top && r_top->sig) r_top = r_top->sig;\n",
        "            Nodo *d_top = divisor_pos->cabeza;\n",
        "            while (d_top && d_top->sig) d_top = d_top->sig;\n",
        "\n",
        "            uint64_t r_val = r_top ? r_top->valor : 0;\n",
        "            uint64_t d_val = d_top ? d_top->valor : 1;\n",
        "            if (d_val == 0) d_val = 1;\n",
        "\n",
        "            q = (uint32_t)(r_val / d_val);\n",
        "            if (q == 0) q = 1;\n",
        "\n",
        "            // Ajustar q si nos pasamos\n",
        "            BigInt *q_big = bg_nuevo();\n",
        "            bg_append(q_big, q);\n",
        "\n",
        "            BigInt *q_mul = multiplicar(divisor_pos, q_big);\n",
        "            while (compararBigInt(resto, q_mul) < 0) {\n",
        "                bg_liberar(q_mul);\n",
        "                bg_liberar(q_big);\n",
        "                q--;\n",
        "                q_big = bg_nuevo();\n",
        "                bg_append(q_big, q);\n",
        "                q_mul = multiplicar(divisor_pos, q_big);\n",
        "            }\n",
        "\n",
        "            BigInt *tmp2 = bg_restar_magnitud(resto, q_mul);\n",
        "            bg_liberar(resto);\n",
        "            resto = tmp2;\n",
        "\n",
        "            bg_liberar(q_mul);\n",
        "            bg_liberar(q_big);\n",
        "        }\n",
        "\n",
        "        bg_append(cociente, q);\n",
        "    }\n",
        "\n",
        "    free(digitos);\n",
        "    bg_liberar(dividendo_pos);\n",
        "    bg_liberar(divisor_pos);\n",
        "\n",
        "    cociente->signo = dividendo->signo * divisor->signo;\n",
        "    resto->signo = dividendo->signo;\n",
        "\n",
        "    if (residuo) {\n",
        "        *residuo = resto;\n",
        "    } else {\n",
        "        bg_liberar(resto);\n",
        "    }\n",
        "\n",
        "    return cociente;\n",
        "}\n",
        "\n",
        "EOF"
      ]
    },
    {
      "cell_type": "markdown",
      "metadata": {
        "id": "7uBJBGwbrjNM"
      },
      "source": [
        "## Pruebas"
      ]
    },
    {
      "cell_type": "code",
      "source": [
        "%%bash\n",
        "cat << 'EOF' >> proyect1.c\n",
        "// Genera un BigInt con longitud aleatoria entre min_dig y max_dig dígitos\n",
        "static BigInt* random_bigint(size_t min_dig, size_t max_dig) {\n",
        "    size_t len = min_dig + rand() % (max_dig - min_dig + 1);\n",
        "    char *buf = malloc(len + 1);\n",
        "    if (!buf) {\n",
        "        fprintf(stderr, \"Error allocando buffer\\n\");\n",
        "        exit(EXIT_FAILURE);\n",
        "    }\n",
        "\n",
        "    // Primer dígito no cero\n",
        "    buf[0] = '1' + rand() % 9;\n",
        "    for (size_t i = 1; i < len; ++i) {\n",
        "        buf[i] = '0' + rand() % 10;\n",
        "    }\n",
        "    buf[len] = '\\0';\n",
        "\n",
        "    BigInt *r = bg_desde_cadena(buf);\n",
        "    free(buf);\n",
        "    return r;\n",
        "}\n",
        "EOF"
      ],
      "metadata": {
        "id": "tNPCa7e5eVjX"
      },
      "execution_count": null,
      "outputs": []
    },
    {
      "cell_type": "code",
      "execution_count": null,
      "metadata": {
        "id": "vVPCOwsa4uTd"
      },
      "outputs": [],
      "source": [
        "%%bash\n",
        "cat << 'EOF' >> proyect1.c\n",
        "//Función de prueba para comparar Bigint\n",
        "void test_compararBigInt() {\n",
        "    BigInt *a = bg_desde_cadena(\"12345678901234567890\");\n",
        "    BigInt *b = bg_desde_cadena(\"12345678901234567890\");\n",
        "    BigInt *c = bg_desde_cadena(\"98765432109876543210\");\n",
        "    BigInt *d = bg_desde_cadena(\"-12345678901234567890\");\n",
        "\n",
        "    printf(\"a vs b: %d (esperado 0)\\n\", compararBigInt(a, b));\n",
        "    printf(\"a vs c: %d (esperado -1)\\n\", compararBigInt(a, c));\n",
        "    printf(\"c vs a: %d (esperado 1)\\n\", compararBigInt(c, a));\n",
        "    printf(\"a vs d: %d (esperado 1)\\n\", compararBigInt(a, d));\n",
        "    printf(\"d vs a: %d (esperado -1)\\n\", compararBigInt(d, a));\n",
        "    printf(\"d vs d: %d (esperado 0)\\n\", compararBigInt(d, d));\n",
        "\n",
        "    bg_liberar(a);\n",
        "    bg_liberar(b);\n",
        "    bg_liberar(c);\n",
        "    bg_liberar(d);\n",
        "}\n",
        "EOF"
      ]
    },
    {
      "cell_type": "code",
      "execution_count": null,
      "metadata": {
        "id": "tCNGPm7Z1FBq"
      },
      "outputs": [],
      "source": [
        "%%bash\n",
        "cat << 'EOF' >> proyect1.c\n",
        "\n",
        "void test_printBigIntNodes() {\n",
        "    BigInt *x = bg_desde_cadena(\"123456789012345678901234567890\");\n",
        "    printf(\"x completo: \");\n",
        "    printBigInt(x);\n",
        "    printf(\"Imprimiendo nodos de x:\\n\");\n",
        "    printBigIntNodes(x);\n",
        "\n",
        "    BigInt *y = bg_desde_cadena(\"-98765432109876543210\");\n",
        "    printf(\"\\ny completo: \");\n",
        "    printBigInt(y);\n",
        "    printf(\"Imprimiendo nodos de y:\\n\");\n",
        "    printBigIntNodes(y);\n",
        "\n",
        "    BigInt *z = bg_nuevo();\n",
        "    bg_append(z, 3);\n",
        "    bg_prepend(z, 2);\n",
        "    bg_prepend(z, 1);\n",
        "    printf(\"\\nz completo: \");\n",
        "    printBigInt(z);\n",
        "    printf(\"Imprimiendo nodos de z:\\n\");\n",
        "    printBigIntNodes(z);\n",
        "\n",
        "    bg_liberar(x);\n",
        "    bg_liberar(y);\n",
        "    bg_liberar(z);\n",
        "}\n",
        "EOF\n"
      ]
    },
    {
      "cell_type": "code",
      "execution_count": null,
      "metadata": {
        "id": "tNGy0C0arjNV"
      },
      "outputs": [],
      "source": [
        "%%bash\n",
        "cat << 'EOF' >> proyect1.c\n",
        "\n",
        "// Función de prueba para la suma\n",
        "void test_suma() {\n",
        "    printf(\"\\nSumas: \\n\");\n",
        "\n",
        "    // Prueba 1: Suma de números positivos\n",
        "    BigInt *a1 = bg_desde_cadena(\"123456789012345678901234567890\");\n",
        "    BigInt *b1 = bg_desde_cadena(\"987654321098765432109876543210\");\n",
        "    BigInt *suma1 = sumar(a1, b1);\n",
        "    printf(\"Suma 1: \");\n",
        "    printBigInt(a1);\n",
        "    printf(\"    +   \");\n",
        "    printBigInt(b1);\n",
        "    printf(\"    =   \");\n",
        "    printBigInt(suma1);\n",
        "    printf(\"\\n\");\n",
        "\n",
        "    // Prueba 2: Suma con números negativos\n",
        "    BigInt *a2 = bg_desde_cadena(\"-123456789\");\n",
        "    BigInt *b2 = bg_desde_cadena(\"-987654321\");\n",
        "    BigInt *suma2 = sumar(a2, b2);\n",
        "    printf(\"Suma 2: \");\n",
        "    printBigInt(a2);\n",
        "    printf(\"    +   \");\n",
        "    printBigInt(b2);\n",
        "    printf(\"    =   \");\n",
        "    printBigInt(suma2);\n",
        "    printf(\"\\n\");\n",
        "\n",
        "    // Prueba 3: Suma de positivo y negativo (resta efectiva)\n",
        "    BigInt *a3 = bg_desde_cadena(\"1000000000000000000\");\n",
        "    BigInt *b3 = bg_desde_cadena(\"-999999999999999999\");\n",
        "    BigInt *suma3 = sumar(a3, b3);\n",
        "    printf(\"Suma 3: \");\n",
        "    printBigInt(a3);\n",
        "    printf(\"    +   \");\n",
        "    printBigInt(b3);\n",
        "    printf(\"    =   \");\n",
        "    printBigInt(suma3);\n",
        "    printf(\"\\n\");\n",
        "\n",
        "    // Prueba 4: Suma que resulta en cero\n",
        "    BigInt *a4 = bg_desde_cadena(\"123456789\");\n",
        "    BigInt *b4 = bg_desde_cadena(\"-123456789\");\n",
        "    BigInt *suma4 = sumar(a4, b4);\n",
        "    printf(\"Suma 4: \");\n",
        "    printBigInt(a4);\n",
        "    printf(\"    +   \");\n",
        "    printBigInt(b4);\n",
        "    printf(\"    =   \");\n",
        "    printBigInt(suma4);\n",
        "    printf(\"\\n\");\n",
        "\n",
        "    // Liberar memoria\n",
        "    bg_liberar(a1); bg_liberar(b1); bg_liberar(suma1);\n",
        "    bg_liberar(a2); bg_liberar(b2); bg_liberar(suma2);\n",
        "    bg_liberar(a3); bg_liberar(b3); bg_liberar(suma3);\n",
        "    bg_liberar(a4); bg_liberar(b4); bg_liberar(suma4);\n",
        "}\n",
        "\n",
        "EOF"
      ]
    },
    {
      "cell_type": "code",
      "execution_count": null,
      "metadata": {
        "id": "B-fr5DeHrjNV"
      },
      "outputs": [],
      "source": [
        "%%bash\n",
        "cat << 'EOF' >> proyect1.c\n",
        "\n",
        "// Función de prueba de multiplicación clásica vs Karatsuba\n",
        "void test_multiplicar(void) {\n",
        "    srand((unsigned)time(NULL));\n",
        "\n",
        "    // --- Caso fijo ---\n",
        "    printf(\"\\n=== Prueba fija de multiplicación ===\\n\");\n",
        "    BigInt *a1 = bg_desde_cadena(\n",
        "        \"314159265358979323846264338327950288419716939937510\"\n",
        "    );\n",
        "    BigInt *b1 = bg_desde_cadena(\n",
        "        \"271828182845904523536028747135266249775724709369995\"\n",
        "    );\n",
        "\n",
        "    printf(\"a1 = \"); printBigInt(a1);\n",
        "    printf(\"b1 = \"); printBigInt(b1);\n",
        "\n",
        "    BigInt *r1_naive = multiplicar(a1, b1);\n",
        "    BigInt *r1_kar   = bg_multiplicarKaratsuba(a1, b1);\n",
        "\n",
        "    printf(\"Resultado Naive:     \"); printBigInt(r1_naive);\n",
        "    printf(\"Resultado Karatsuba: \"); printBigInt(r1_kar);\n",
        "\n",
        "    bg_liberar(a1);\n",
        "    bg_liberar(b1);\n",
        "    bg_liberar(r1_naive);\n",
        "    bg_liberar(r1_kar);\n",
        "\n",
        "    // --- Caso aleatorio grande ---\n",
        "    printf(\"\\n=== Prueba aleatoria 2000–3000 dígitos ===\\n\");\n",
        "    BigInt *a2 = random_bigint(2000, 3000);\n",
        "    BigInt *b2 = random_bigint(2000, 3000);\n",
        "\n",
        "    printf(\"a2 (%zu dígitos) = \", a2->longitud); printBigInt(a2);\n",
        "    printf(\"b2 (%zu dígitos) = \", b2->longitud); printBigInt(b2);\n",
        "\n",
        "    BigInt *r2_naive = multiplicar(a2, b2);\n",
        "    BigInt *r2_kar   = bg_multiplicarKaratsuba(a2, b2);\n",
        "\n",
        "    printf(\"Resultado Naive (aleatorio):     \"); printBigInt(r2_naive);\n",
        "    printf(\"Resultado Karatsuba (aleatorio): \"); printBigInt(r2_kar);\n",
        "\n",
        "    bg_liberar(a2);\n",
        "    bg_liberar(b2);\n",
        "    bg_liberar(r2_naive);\n",
        "    bg_liberar(r2_kar);\n",
        "}\n",
        "\n",
        "EOF"
      ]
    },
    {
      "cell_type": "code",
      "source": [
        "%%bash\n",
        "cat << 'EOF' >> proyect1.c\n",
        "// Función para medir y comparar tiempos de multiplicación clásica vs Karatsuba\n",
        "void test_tiempos_multiplicar(void) {\n",
        "    srand((unsigned)time(NULL));\n",
        "    clock_t start, end;\n",
        "    double t_naive, t_kar;\n",
        "\n",
        "    // --- Caso fijo ---\n",
        "    BigInt *a1 = bg_desde_cadena(\n",
        "        \"314159265358979323846264338327950288419716939937510\"\n",
        "    );\n",
        "    BigInt *b1 = bg_desde_cadena(\n",
        "        \"271828182845904523536028747135266249775724709369995\"\n",
        "    );\n",
        "\n",
        "    start = clock();\n",
        "    BigInt *r1_naive = multiplicar(a1, b1);\n",
        "    end   = clock();\n",
        "    t_naive = (double)(end - start) / CLOCKS_PER_SEC;\n",
        "\n",
        "    start = clock();\n",
        "    BigInt *r1_kar   = bg_multiplicarKaratsuba(a1, b1);\n",
        "    end   = clock();\n",
        "    t_kar   = (double)(end - start) / CLOCKS_PER_SEC;\n",
        "\n",
        "    printf(\"\\n=== Tiempos Multiplicación (Caso Fijo) ===\\n\");\n",
        "    printf(\"Naive:     %.6f s\\n\", t_naive);\n",
        "    printf(\"Karatsuba: %.6f s\\n\", t_kar);\n",
        "\n",
        "    bg_liberar(a1);\n",
        "    bg_liberar(b1);\n",
        "    bg_liberar(r1_naive);\n",
        "    bg_liberar(r1_kar);\n",
        "\n",
        "    // --- Caso aleatorio grande (2000–3000 dígitos) ---\n",
        "    BigInt *a2 = random_bigint(2000, 3000);\n",
        "    BigInt *b2 = random_bigint(2000, 3000);\n",
        "\n",
        "    start = clock();\n",
        "    BigInt *r2_naive = multiplicar(a2, b2);\n",
        "    end   = clock();\n",
        "    t_naive = (double)(end - start) / CLOCKS_PER_SEC;\n",
        "\n",
        "    start = clock();\n",
        "    BigInt *r2_kar   = bg_multiplicarKaratsuba(a2, b2);\n",
        "    end   = clock();\n",
        "    t_kar   = (double)(end - start) / CLOCKS_PER_SEC;\n",
        "\n",
        "    printf(\"\\n=== Tiempos Multiplicación (Caso Aleatorio: %zu dígitos) ===\\n\",\n",
        "           a2->longitud);\n",
        "    printf(\"Naive:     %.6f s\\n\", t_naive);\n",
        "    printf(\"Karatsuba: %.6f s\\n\", t_kar);\n",
        "\n",
        "    bg_liberar(a2);\n",
        "    bg_liberar(b2);\n",
        "    bg_liberar(r2_naive);\n",
        "    bg_liberar(r2_kar);\n",
        "}\n",
        "EOF"
      ],
      "metadata": {
        "id": "aY2RNlI8fx8I"
      },
      "execution_count": null,
      "outputs": []
    },
    {
      "cell_type": "code",
      "source": [
        "%%bash\n",
        "cat << 'EOF' >> proyect1.c\n",
        "void test_karatsuba_casos_limite() {\n",
        "    printf(\"\\n--- Casos límite Karatsuba ---\\n\");\n",
        "\n",
        "    BigInt *a, *b, *r;\n",
        "\n",
        "    // Caso 1: a por 0\n",
        "    a = bg_desde_cadena(\"987654321\");\n",
        "    b = bg_desde_cadena(\"0\");\n",
        "    r = bg_multiplicarKaratsuba(a, b);\n",
        "    printf(\"Caso a x 0: \"); printBigInt(r);\n",
        "    bg_liberar(a); bg_liberar(b); bg_liberar(r);\n",
        "\n",
        "    // Caso 2: a por 1\n",
        "    a = bg_desde_cadena(\"987654321\");\n",
        "    b = bg_desde_cadena(\"1\");\n",
        "    r = bg_multiplicarKaratsuba(a, b);\n",
        "    printf(\"Caso a x 1: \"); printBigInt(r);\n",
        "    bg_liberar(a); bg_liberar(b); bg_liberar(r);\n",
        "\n",
        "    // Caso 3: 1 dígito por 1 dígito\n",
        "    a = bg_desde_cadena(\"7\");\n",
        "    b = bg_desde_cadena(\"8\");\n",
        "    r = bg_multiplicarKaratsuba(a, b);\n",
        "    printf(\"Caso 1 dígito: \"); printBigInt(r);\n",
        "    bg_liberar(a); bg_liberar(b); bg_liberar(r);\n",
        "\n",
        "    // Caso 4: muy grande\n",
        "    a = random_bigint(1000, 1000);\n",
        "    b = random_bigint(1000, 1000);\n",
        "    r = bg_multiplicarKaratsuba(a, b);\n",
        "    printf(\"Caso 1000 dígitos OK\\n\");\n",
        "    bg_liberar(a); bg_liberar(b); bg_liberar(r);\n",
        "\n",
        "    // Caso 5: tamaños dispares\n",
        "    a = random_bigint(100, 100);\n",
        "    b = random_bigint(2000, 2000);\n",
        "    r = bg_multiplicarKaratsuba(a, b);\n",
        "    printf(\"Caso tamaños dispares OK\\n\");\n",
        "    bg_liberar(a); bg_liberar(b); bg_liberar(r);\n",
        "}\n",
        "EOF\n"
      ],
      "metadata": {
        "id": "1JoQN5nwvkBy"
      },
      "execution_count": null,
      "outputs": []
    },
    {
      "cell_type": "code",
      "execution_count": null,
      "metadata": {
        "id": "xTG63iyu5gjj"
      },
      "outputs": [],
      "source": [
        "%%bash\n",
        "cat << 'EOF' >> proyect1.c\n",
        "\n",
        "void test_division() {\n",
        "    printf(\"\\nTest División larga\\n\");\n",
        "\n",
        "    BigInt *a = bg_desde_cadena(\"123456789012345678901234567890\");\n",
        "    BigInt *b = bg_desde_cadena(\"1234567890\");\n",
        "\n",
        "    // Puntero para residuo\n",
        "    BigInt *r = NULL;\n",
        "\n",
        "    // Calcular división larga\n",
        "    BigInt *q = bg_dividir_largo(a, b, &r);\n",
        "\n",
        "    printf(\"Dividendo: \");\n",
        "    printBigInt(a);\n",
        "    printf(\"\\n\");\n",
        "\n",
        "    printf(\"Divisor: \");\n",
        "    printBigInt(b);\n",
        "    printf(\"\\n\");\n",
        "\n",
        "    printf(\"Cociente: \");\n",
        "    printBigInt(q);\n",
        "    printf(\"\\n\");\n",
        "\n",
        "    printf(\"Residuo: \");\n",
        "    printBigInt(r);\n",
        "    printf(\"\\n\");\n",
        "\n",
        "    // Liberar memoria\n",
        "    bg_liberar(a);\n",
        "    bg_liberar(b);\n",
        "    bg_liberar(q);\n",
        "    bg_liberar(r);\n",
        "}\n",
        "EOF"
      ]
    },
    {
      "cell_type": "code",
      "execution_count": null,
      "metadata": {
        "id": "OrwzR8181JdY"
      },
      "outputs": [],
      "source": [
        "%%bash\n",
        "cat << 'EOF' >> proyect1.c\n",
        "\n",
        "//Modo benchmarking\n",
        "int main(int argc, char **argv) {\n",
        "    if (argc == 3 && strcmp(argv[1], \"-bench\") == 0) {\n",
        "        int n = atoi(argv[2]);\n",
        "        srand((unsigned)time(NULL));\n",
        "        BigInt *a = random_bigint(n, n);\n",
        "        BigInt *b = random_bigint(n, n);\n",
        "\n",
        "        clock_t start, end;\n",
        "        start = clock();\n",
        "        BigInt *r_naive = multiplicar(a, b);\n",
        "        end = clock();\n",
        "        printf(\"Naive:     %.6f s\\n\", (double)(end - start)/CLOCKS_PER_SEC);\n",
        "        bg_liberar(r_naive);\n",
        "\n",
        "        start = clock();\n",
        "        BigInt *r_kar = bg_multiplicarKaratsuba(a, b);\n",
        "        end = clock();\n",
        "        printf(\"Karatsuba: %.6f s\\n\", (double)(end - start)/CLOCKS_PER_SEC);\n",
        "        bg_liberar(r_kar);\n",
        "\n",
        "        bg_liberar(a);\n",
        "        bg_liberar(b);\n",
        "        return 0;\n",
        "    }\n",
        "\n",
        "    test_printBigIntNodes();\n",
        "    test_compararBigInt();\n",
        "    test_suma();\n",
        "    test_multiplicar();\n",
        "    test_tiempos_multiplicar();\n",
        "    test_karatsuba_casos_limite();\n",
        "    test_division();\n",
        "    return 0;\n",
        "}\n",
        "EOF"
      ]
    },
    {
      "cell_type": "code",
      "source": [
        "%%bash\n",
        "\n",
        "gcc proyect1.c -o proyect\n",
        "./proyect"
      ],
      "metadata": {
        "colab": {
          "base_uri": "https://localhost:8080/"
        },
        "id": "xPBXkEaKriyR",
        "outputId": "bb1f8caf-04e6-4dea-ad93-d90259154649"
      },
      "execution_count": null,
      "outputs": [
        {
          "output_type": "stream",
          "name": "stdout",
          "text": [
            "x completo: 123456789012345678901234567890\n",
            "Imprimiendo nodos de x:\n",
            "  Nodo  0: 234567890\n",
            "  Nodo  1: 345678901\n",
            "  Nodo  2: 456789012\n",
            "  Nodo  3: 000000123\n",
            "\n",
            "y completo: -98765432109876543210\n",
            "Imprimiendo nodos de y:\n",
            "  Nodo  0: 876543210\n",
            "  Nodo  1: 765432109\n",
            "  Nodo  2: 000000098\n",
            "\n",
            "z completo: 3000000002000000001\n",
            "Imprimiendo nodos de z:\n",
            "  Nodo  0: 000000001\n",
            "  Nodo  1: 000000002\n",
            "  Nodo  2: 000000003\n",
            "a vs b: 0 (esperado 0)\n",
            "a vs c: -1 (esperado -1)\n",
            "c vs a: 1 (esperado 1)\n",
            "a vs d: 1 (esperado 1)\n",
            "d vs a: -1 (esperado -1)\n",
            "d vs d: 0 (esperado 0)\n",
            "\n",
            "Sumas: \n",
            "Suma 1: 123456789012345678901234567890\n",
            "    +   987654321098765432109876543210\n",
            "    =   1111111110111111111011111111100\n",
            "\n",
            "Suma 2: -123456789\n",
            "    +   -987654321\n",
            "    =   -1111111110\n",
            "\n",
            "Suma 3: 1000000000000000000\n",
            "    +   -999999999999999999\n",
            "    =   0000000000000000001\n",
            "\n",
            "Suma 4: 123456789\n",
            "    +   -123456789\n",
            "    =   0\n",
            "\n",
            "\n",
            "=== Prueba fija de multiplicación ===\n",
            "a1 = 314159265358979323846264338327950288419716939937510\n",
            "b1 = 271828182845904523536028747135266249775724709369995\n",
            "Resultado Naive:     85397342226735670654635508695465744950348885357650690581833014653136349617576232159238592126769012450\n",
            "Resultado Karatsuba: 85397342226735670654635508695465744950348885357650690581833014653136349617576232159238592126769012450\n",
            "\n",
            "=== Prueba aleatoria 2000–3000 dígitos ===\n",
            "a2 (249 dígitos) = 36767778410637953508053709856201877744797870586838853136231851151827408185453239036469284391706099751671336951854410638097460069136215578163441804088117055071196830397223779071582513418925036830071713202310760931272266980683892963416947135128447863563741242751292808512224281979447911355520652032116350909296262973300083360575988734844775593701233241790767557332738305976449582128209495141086479311028964842256396248874104742895107195599916546472479881376777289190869071647406643853900797737668744643918978745142452753626482256941254243129853011406778316554360695212646523144285854605472019070801068832147587285665313814743723041027333202950437290573147631055367092613828073912189595458674330351512096823414634603141220885011362794376739304884311635933436565034473067117615276552147613381885424742465347066941356037365566228803261725623237464298926695217397636918672126164583596475909650634427204418224702073811403598571115835596321893290882944215262503088550392693932212628069888038638604665846141683047144022058033996562266002180684491825220055465013451251761932673775490705263984221468734939198485247419165453087143917522533503347081917652152886390242418970224224315092409907738762026825047469012533903893768544769561067926027493783262750606274150278070894543813341516896426931168087287751064490574253015621747867785470706468415050461144220126096564834690443961109543987101901587182742718324647791001011104474392668069812478147469682922361900389285388727741489560762918310348486144937613973932908101134281039945569420927330541573688108233348194068250185259526095027862218228826661982409672293995773194037011688996158115544833522864267189369158975707451056501787105145071106193685322627377667300014533643254812554818767723475676049325850254429002801593133602527481066293656768240309835197649517636555040636753785798429184237220877573567432723412254185718432619469735690982224641280751626087025928688696031695825091173783606190170930833903607206536024386117324447422734214956809421081612355791635028759345027982380661918607780293260394019837268446738618387628946987509682420464040001932694401011771832094253987989272454116438717812222969257148095433064708571282626013058965784359856228098318600204509608378723809653553596576597179359389\n",
            "b2 (331 dígitos) = 53756821198649316968807832980817482084325189110939711416614815576876408047170465569620213895552152014838757814360242565865512059450054131812268412980468949346201507910203421492880029843799421771483623167326706001985474518617757249757709589281391059422583279025190961841061310517479629076190600818122420571724462556473304365568400842900294743918567117545201163148650889275787535266142664890337114394531019985633247716115448389910486797907470717788321885915009367946839796869750582890503123050766649528326292262661613126743920586650402223671137429853428910960627687131698804758853218009208480161094165268855840361181123983112211849467463947905215347957478619823982720217127648395280939713815315707820534218269980075166448191671555720163109107326834488499586833315543884796648421881853821416869524922503189931211426709060848820433885315208542684376492689481724224955477521702351993151029313935322089933323551860188400541036590718812344912018256099273578159141052488871292127929878125242177472632642763275170057891635043792176662858178995112801984781282611477673510321033215623213333705944614185237530853537869412794289962380823778985439147088579927016444646135923587693321178180013859223038832100060592621751982360212837612954970131316603803252295678662879568503937727027444894373159566615765070742576431912541877053834302010306775448751907007904297648171301991735700910842733184940979201521694167378384858176782970992044333842789737215042830239440746189786976049063589983118252248068058665280308877865396114558566463449088210008706536169715883429875993914016816661497470159413592291584106807673812771806968219730801321124001504984184971914180192444658071321939347066378988927261828947099193349245173173985722036123842071528472282791081874009611117416769536854245343443043936247981689532337953400974279774598519679544898785128315762851213364423399798796500353821217650986320871751740392527029272138126971958045310361514218455668492389476400031297540194051738687038077837953292058269884068848741560353241760985834912418212217385530866935255958340683425948896340458261788583318598943639439063220057447295659608614999952889303610355076851934705497302800941204359078656049449101851334328670027124202008962102480733178155389013753956774284645638057065723626992407286724380854971677161624335776426198746033442501447621274944596327111016570843919991019723184938852155805009322411834707237940927142945447309842946638362278281027411157107084508362110539479771442577480410860898209484522591635105043086182393236304858027192904620931661090436276653456387799151374452652817654219876425196022369026203617472826803666377092448542173436173667267525384385520574701245884442168133893321875844314660360806042178657989278772125793920000636163121819938928350049432454649355869960155169994098132599063110796614921637656276181541467870069950364540205132962016374274282279405970102835223424384701339678531348350733555820558940083262236360218491849541598584614150474012256095491557827685066573711334689\n",
            "Resultado Naive (aleatorio):     1976518889892223030272473652669491353598582808650031854853000324690434802717382251732723103036270284114634424454181241278733803440263642675667100431591053744760896416353332036529017326016171538122565533181520592252174853817669404350950140935354965190029566053280634166950181655494034899932887428936589717218696100860863916236834509386049724458664232723557579592644872707398890733734704295132931727684128605500430606501086350720520462655997845245950446632661598349170440462767069818213488328791118015841791698566833615481116190076952129084500978076313879709844511193008998152980811557884647394665063515227786623540470814003766803856033567183920383309850461106798749367971713955778689512279888600923633438626601152298555685167988722017545111589571927290297407115233292042267871278850485854955068895358765043571939202560816323964643087530628499163277100451577981522800456179864838075364517796523090223127471184778954807098318681237193322020229658953972114377810116990116810641270710099352184281862545770118407042813033820248528815550540757366890762463024532616516793341392304814520741393815497613046225080310503979126078014582610240989007355293170483605429221653804360505265096898165473720865891445730240032498521403358782428573901354629811348374460457920039136217869846697532401199939721792370447702111204112294698479177325601355367773200162326276504900159873748453888033279106120420164752996837365664961793913261448213509426570760004860217227739456897417818288896901450381383514193910756845876000315410811935700041389848175698101900833941010310241502322238109855842187785264942510820627019180440057453555537952252893400298862211487209166568081186120886301282740132056805853315048761602267700674516649297585139325148643047959965626975704410585628752913756929002776260916869569672645725916381800004477512698043514228521501709623937964974823015578067675242335838420883086410970239534337481301699412960584455905645539480562033409469073979136501324893355517586124098988951805596921914552399743948562046508917116834943877176413780698286731593396248198563340048618448699044146126713295785178202919550607709065907520683153917802369505787621253504605599407108443868136931931048119185558555724230325604117352669257624109938969887801634475338749941055796927255773409700984022026226454049553283254344960881429255079201756270663596978434889453934598615851212029263593891151402028840154902122995873052819664405344947767166291266863722615504721734367708278651716956547555697405336841191531243306164339702485953984069875320414235776845648379746445012907667654572358232262818056452248632154403971801514000035663035124000488289767337757353026507411200087719998048348551275361678597788962031918914203004635506240397284919812620479224288486497175954744279689674451259276744204482012368510803956012066854128947207877482868005130591186088744390180072059558029872649653842854482931001121654967047883917096733583898308849992424398424982642295240195795953202076991979728233878867648105838703315780842551298992600084905869739984744975371944420765576398093673739028244614747496127579989741555116318734075832251551685161892226693356685230479947839325588167583707967804948228791983323163759309064197972983576694116458588658573163525022999006543807162251117073806177990249791417372692309855196454858889511343377715677957010936194358940967107873449663120699698459166113157706340687780011187702165963871714357132131164912144639674171813401115888296042806155312872138338281293840255498272899332013271387405002155828246979440931345170915426799483984125072866016598706287849124177433205189031046446077308523063173816914214708259425885479519993459412806028606734219173730617709005504246932598060187534794123470124854409033559653078351119721714887252660467596475396338673560899414493349091233692302072913373153511456377673947869702332080093479966642211515152654925744136749428289364961808193818605532327402874211890940300425671284414760600879226575780463535222762728175666990310739895742014240747943105254295163953781043735456582414031391467840322458355633169705306295310247918303433798648806367927448065777698494286873793181864563415853124448162926556048262777947350688110561670824492994645543528753368158412489902369254657345216706666025806483318405486574733181294797244762459016295894003284741650173146987354362834286199219541039406393853142662863335826556777225128986382522862597163137440413499190749457563606023991215060932378597117475004163329468581170914719978734503151748521145064561647151019798700920274341990928923135323427550413575317113947401984848477149963379305082196894750373686701366225517983030502678047061440824808911980193359439518687269310262776820574291332104722376520495978636901270403641839213513154292288509501707691906763603742812088975802959971394212354545217057044731856813626672934313967542723276753153453466832066822250175326735685199084517146177868262459789635761522860100267696161102888648819466018395118173453611484938984217069726442828478927273595866488574868482587800034871281100371469669536592265763658476783778250264990855566774130819207821679579390661527107946282887934771024724347103912190134435770197965198438667209941680792357410697225251241212459293410055402846479234335029034301545215918551176861785193545021\n",
            "Resultado Karatsuba (aleatorio): 1976518889892223030272473652669491353598582808650031854853000324690434802717382251732723103036270284114634424454181241278733803440263642675667100431591053744760896416353332036529017326016171538122565533181520592252174853817669404350950140935354965190029566053280634166950181655494034899932887428936589717218696100860863916236834509386049724458664232723557579592644872707398890733734704295132931727684128605500430606501086350720520462655997845245950446632661598349170440462767069818213488328791118015841791698566833615481116190076952129084500978076313879709844511193008998152980811557884647394665063515227786623540470814003766803856033567183920383309850461106798749367971713955778689512279888600923633438626601152298555685167988722017545111589571927290297407115233292042267871278850485854955068895358765043571939202560816323964643087530628499163277100451577981522800456179864838075364517796523090223127471184778954807098318681237193322020229658953972114377810116990116810641270710099352184281862545770118407042813033820248528815550540757366890762463024532616516793341392304814520741393815497613046225080310503979126078014582610240989007355293170483605429221653804360505265096898165473720865891445730240032498521403358782428573901354629811348374460457920039136217869846697532401199939721792370447702111204112294698479177325601355367773200162326276504900159873748453888033279106120420164752996837365664961793913261448213509426570760004860217227739456897417818288896901450381383514193910756845876000315410811935700041389848175698101900833941010310241502322238109855842187785264942510820627019180440057453555537952252893400298862211487209166568081186120886301282740132056805853315048761602267700674516649297585139325148643047959965626975704410585628752913756929002776260916869569672645725916381800004477512698043514228521501709623937964974823015578067675242335838420883086410970239534337481301699412960584455905645539480562033409469073979136501324893355517586124098988951805596921914552399743948562046508917116834943877176413780698286731593396248198563340048618448699044146126713295785178202919550607709065907520683153917802369505787621253504605599407108443868136931931048119185558555724230325604117352669257624109938969887801634475338749941055796927255773409700984022026226454049553283254344960881429255079201756270663596978434889453934598615851212029263593891151402028840154902122995873052819664405344947767166291266863722615504721734367708278651716956547555697405336841191531243306164339702485953984069875320414235776845648379746445012907667654572358232262818056452248632154403971801514000035663035124000488289767337757353026507411200087719998048348551275361678597788962031918914203004635506240397284919812620479224288486497175954744279689674451259276744204482012368510803956012066854128947207877482868005130591186088744390180072059558029872649653842854482931001121654967047883917096733583898308849992424398424982642295240195795953202076991979728233878867648105838703315780842551298992600084905869739984744975371944420765576398093673739028244614747496127579989741555116318734075832251551685161892226693356685230479947839325588167583707967804948228791983323163759309064197972983576694116458588658573163525022999006543807162251117073806177990249791417372692309855196454858889511343377715677957010936194358940967107873449663120699698459166113157706340687780011187702165963871714357132131164912144639674171813401115888296042806155312872138338281293840255498272899332013271387405002155828246979440931345170915426799483984125072866016598706287849124177433205189031046446077308523063173816914214708259425885479519993459412806028606734219173730617709005504246932598060187534794123470124854409033559653078351119721714887252660467596475396338673560899414493349091233692302072913373153511456377673947869702332080093479966642211515152654925744136749428289364961808193818605532327402874211890940300425671284414760600879226575780463535222762728175666990310739895742014240747943105254295163953781043735456582414031391467840322458355633169705306295310247918303433798648806367927448065777698494286873793181864563415853124448162926556048262777947350688110561670824492994645543528753368158412489902369254657345216706666025806483318405486574733181294797244762459016295894003284741650173146987354362834286199219541039406393853142662863335826556777225128986382522862597163137440413499190749457563606023991215060932378597117475004163329468581170914719978734503151748521145064561647151019798700920274341990928923135323427550413575317113947401984848477149963379305082196894750373686701366225517983030502678047061440824808911980193359439518687269310262776820574291332104722376520495978636901270403641839213513154292288509501707691906763603742812088975802959971394212354545217057044731856813626672934313967542723276753153453466832066822250175326735685199084517146177868262459789635761522860100267696161102888648819466018395118173453611484938984217069726442828478927273595866488574868482587800034871281100371469669536592265763658476783778250264990855566774130819207821679579390661527107946282887934771024724347103912190134435770197965198438667209941680792357410697225251241212459293410055402846479234335029034301545215918551176861785193545021\n",
            "\n",
            "=== Tiempos Multiplicación (Caso Fijo) ===\n",
            "Naive:     0.000010 s\n",
            "Karatsuba: 0.000027 s\n",
            "\n",
            "=== Tiempos Multiplicación (Caso Aleatorio: 249 dígitos) ===\n",
            "Naive:     0.237574 s\n",
            "Karatsuba: 0.027403 s\n",
            "\n",
            "--- Casos límite Karatsuba ---\n",
            "Caso a x 0: 0\n",
            "Caso a x 1: 987654321\n",
            "Caso 1 dígito: 56\n",
            "Caso 1000 dígitos OK\n",
            "Caso tamaños dispares OK\n",
            "\n",
            "Test División larga\n",
            "Dividendo: 123456789012345678901234567890\n",
            "\n",
            "Divisor: 1234567890\n",
            "\n",
            "Cociente: 1000000001000000001000000000\n",
            "\n",
            "Residuo: 0000000122222221121111111010000000000\n",
            "\n"
          ]
        }
      ]
    },
    {
      "cell_type": "code",
      "source": [
        "%%bash\n",
        "gcc proyect1.c -o proyect1\n"
      ],
      "metadata": {
        "id": "V3KPwQYssk-X"
      },
      "execution_count": null,
      "outputs": []
    },
    {
      "cell_type": "code",
      "source": [
        "import subprocess\n",
        "import re\n",
        "import statistics\n",
        "import matplotlib.pyplot as plt\n",
        "\n",
        "# Tamaños de prueba y repeticiones\n",
        "sizes = [50, 200, 500, 1000, 2000, 3000]\n",
        "runs = 10\n",
        "\n",
        "naive_avg = []\n",
        "kar_avg = []\n",
        "\n",
        "for n in sizes:\n",
        "    nt = []; kt = []\n",
        "    for _ in range(runs):\n",
        "        out = subprocess.check_output(['./proyect1', '-bench', str(n)], text=True)\n",
        "        nt.append(float(re.search(r'Naive:\\s+([\\d.]+)', out).group(1)))\n",
        "        kt.append(float(re.search(r'Karatsuba:\\s+([\\d.]+)', out).group(1)))\n",
        "    naive_avg.append(statistics.mean(nt))\n",
        "    kar_avg.append(statistics.mean(kt))\n",
        "\n",
        "plt.figure()\n",
        "plt.plot(sizes, naive_avg, marker='o', label='Clásica (O(n²))')\n",
        "plt.plot(sizes, kar_avg, marker='s', label='Karatsuba (O(n¹·⁵⁸⁵))')\n",
        "plt.xlabel('Número de dígitos')\n",
        "plt.ylabel('Tiempo promedio (s)')\n",
        "plt.title('Comparación de tiempos: Clásica vs Karatsuba')\n",
        "plt.legend()\n",
        "plt.grid(True)\n",
        "plt.tight_layout()\n",
        "plt.show()\n"
      ],
      "metadata": {
        "colab": {
          "base_uri": "https://localhost:8080/",
          "height": 487
        },
        "id": "QvFI8HY4rqQr",
        "outputId": "01a7ec17-2aae-4b1a-98db-9069abf3242d"
      },
      "execution_count": null,
      "outputs": [
        {
          "output_type": "display_data",
          "data": {
            "text/plain": [
              "<Figure size 640x480 with 1 Axes>"
            ],
            "image/png": "[encoded data removed]"
          },
          "metadata": {}
        }
      ]
    }
  ],
  "metadata": {
    "colab": {
      "provenance": []
    },
    "kernelspec": {
      "display_name": "Python 3 (ipykernel)",
      "language": "python",
      "name": "python3"
    },
    "language_info": {
      "codemirror_mode": {
        "name": "ipython",
        "version": 3
      },
      "file_extension": ".py",
      "mimetype": "text/x-python",
      "name": "python",
      "nbconvert_exporter": "python",
      "pygments_lexer": "ipython3",
      "version": "3.12.10"
    }
  },
  "nbformat": 4,
  "nbformat_minor": 0
}