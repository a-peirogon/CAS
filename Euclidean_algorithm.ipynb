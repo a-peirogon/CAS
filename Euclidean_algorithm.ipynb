{
 "cells": [
  {
   "cell_type": "markdown",
   "metadata": {
    "id": "T5AGgo3QnKpz"
   },
   "source": [
    "# 1. Algoritmo de la división de polinomios evitando fracciones.\n",
    "\n",
    "1. Tomamos mcm de denominadores de ambos polinomios (divisor y dividendo) en caso de que sean fracciones y así quedan u' y v' con coeficientes enteros.\n",
    "2. Además preparamos la pseudo-division calculando grados de ambos polinomios quitando ceros de grados altos.\n",
    "3. Implementamos pseudo-división calculando el alpha como vimos en clase, allí usamos también poli_por_const definida antes.\n",
    "4. Definimos una función extra para simplificar las fracciones\n",
    "5. La última función usa todas las demás, obteniendo los mcm de denominadores, **definiendo** u prima y v prima, llamando la pseudo-división, luego desnormalizando, simplificando y retornando cociente, residuo y el alppha que se usó en pseudo-división"
   ]
  },
  {
   "cell_type": "code",
   "execution_count": 1,
   "metadata": {
    "id": "Wo0vK-KEnJY0"
   },
   "outputs": [],
   "source": [
    "from fractions import Fraction\n",
    "from math import gcd\n",
    "from functools import reduce\n",
    "from typing import List, Tuple\n",
    "\n",
    "\n",
    "def mcm(a: int, b: int) -> int:\n",
    "    return abs(a * b) // gcd(a, b)\n",
    "\n",
    "def mcm_list(lst: List[int]) -> int:\n",
    "    return reduce(mcm, lst, 1)  # Reduce aplica la función mcm acumulativamente empezando desde 1\n",
    "\n",
    "def mcm_denominadores(fracciones: List[Fraction]) -> int:\n",
    "    denominadores = [f.denominator for f in fracciones if f != 0]\n",
    "    if not denominadores:\n",
    "        return 1\n",
    "    return mcm_list(denominadores)\n",
    "\n",
    "def grado(p: List[int]) -> int:\n",
    "    for i in reversed(range(len(p))):\n",
    "        if p[i] != 0:\n",
    "            return i\n",
    "    return -1\n",
    "\n",
    "def quitar_ceros_derecha(p: List[int]) -> List[int]:\n",
    "    d = grado(p)\n",
    "    return p[:d + 1] if d >= 0 else [0]\n",
    "\n",
    "def poli_por_const(p: List[int], c: int) -> List[int]:\n",
    "    return [coeff * c for coeff in p]\n",
    "\n",
    "def pseudo_division(u: List[int], v: List[int]) -> Tuple[List[int], List[int], int]:\n",
    "    u = quitar_ceros_derecha(u)      \n",
    "    v = quitar_ceros_derecha(v)     \n",
    "\n",
    "    m = grado(u)                     \n",
    "    n = grado(v)                     \n",
    "    delta = m - n                   \n",
    "    vn = v[n]                       \n",
    "    alpha = int(pow(vn, delta + 1)) \n",
    "\n",
    "    r = poli_por_const(u, alpha)    \n",
    "    q = [0] * (delta + 1)           \n",
    "\n",
    "    for i in range(delta, -1, -1):\n",
    "        ri = r[n + i]               \n",
    "        if ri == 0:                 \n",
    "            q[i] = 0\n",
    "            continue\n",
    "        q[i] = ri // vn             \n",
    "        for j in range(n + 1):      \n",
    "            r[i + j] -= q[i] * v[j]\n",
    "\n",
    "    return quitar_ceros_derecha(q), quitar_ceros_derecha(r), alpha  \n",
    "\n",
    "def simplificar_fracciones(p: List[Fraction]) -> List[Fraction]:\n",
    "    denominadores = [f.denominator for f in p if f != 0]\n",
    "    if not denominadores:\n",
    "        return [Fraction(0)]\n",
    "    mcm_den = mcm_list(denominadores)\n",
    "    numeradores = [f.numerator * (mcm_den // f.denominator) for f in p]\n",
    "    mcd_num = reduce(gcd, [abs(n) for n in numeradores if n != 0], 0) or 1\n",
    "    return [Fraction(n // mcd_num, mcm_den) for n in numeradores]\n",
    "\n",
    "def pseudo_division_racional(u: List[Fraction], v: List[Fraction]) -> Tuple[List[Fraction], List[Fraction], Fraction]:\n",
    "    gamma = mcm_denominadores(u)       \n",
    "    \n",
    "    beta = mcm_denominadores(v)        \n",
    "\n",
    "    u_prim = [int(c * gamma) for c in u]  \n",
    "    v_prim = [int(c * beta) for c in v]   \n",
    "    q_int, r_int, alpha = pseudo_division(u_prim, v_prim)  \n",
    "\n",
    "    factor_q = Fraction(gamma, beta * alpha)  \n",
    "    factor_r = Fraction(1, beta * alpha)     \n",
    "\n",
    "    q_real = [Fraction(c) * factor_q for c in q_int]  \n",
    "    r_real = [Fraction(c) * factor_r for c in r_int]  \n",
    "\n",
    "    q_real = simplificar_fracciones(q_real) \n",
    "    r_real = simplificar_fracciones(r_real) \n",
    "\n",
    "    return q_real, r_real, Fraction(alpha)   \n"
   ]
  },
  {
   "cell_type": "code",
   "execution_count": 2,
   "metadata": {
    "colab": {
     "base_uri": "https://localhost:8080/"
    },
    "id": "1uttBLEzGtOz",
    "outputId": "39bdebbe-ed32-47db-fcd0-f6621cab35d3"
   },
   "outputs": [
    {
     "name": "stdout",
     "output_type": "stream",
     "text": [
      "Cociente exacto q(x): [Fraction(7, 9), Fraction(2, 3)]\n",
      "Residuo exacto r(x): [Fraction(20, 9), Fraction(17, 9)]\n",
      "Factor alpha utilizado: 9\n"
     ]
    }
   ],
   "source": [
    "#ejemplo del libro:\n",
    "u = [Fraction(3), Fraction(1), Fraction(1), Fraction(2)]\n",
    "v = [Fraction(1), Fraction(-2), Fraction(3)]\n",
    "\n",
    "q, r, alpha = pseudo_division_racional(u, v)\n",
    "\n",
    "print(\"Cociente exacto q(x):\", q)\n",
    "print(\"Residuo exacto r(x):\", r)\n",
    "print(\"Factor alpha utilizado:\", alpha)"
   ]
  },
  {
   "cell_type": "code",
   "execution_count": 3,
   "metadata": {
    "colab": {
     "base_uri": "https://localhost:8080/"
    },
    "id": "tZFeRImeGz8b",
    "outputId": "1b894db0-0c51-4069-9c64-ed3ecdd02af8"
   },
   "outputs": [
    {
     "name": "stdout",
     "output_type": "stream",
     "text": [
      "Cociente exacto q(x): [Fraction(22, 15), Fraction(3, 5)]\n",
      "Residuo exacto r(x): [Fraction(-98, 15), Fraction(17, 9)]\n",
      "Factor alpha utilizado: 9\n"
     ]
    }
   ],
   "source": [
    "# u(x) = (3/2)x^3 - (4/3)x^2 + 2  → [2, 0, -4/3, 3/2]\n",
    "# v(x) = (1/5)x^2 - (2/3)x + 1   → [1, -2/3, 1/5]\n",
    "\n",
    "u = [Fraction(2), Fraction(0), Fraction(-4, 3), Fraction(3, 2)]\n",
    "v = [Fraction(1), Fraction(-2, 3), Fraction(1, 5)]\n",
    "\n",
    "q, r, alpha = pseudo_division_racional(u, v)\n",
    "\n",
    "print(\"Cociente exacto q(x):\", q)\n",
    "print(\"Residuo exacto r(x):\", r)\n",
    "print(\"Factor alpha utilizado:\", alpha)"
   ]
  },
  {
   "cell_type": "code",
   "execution_count": 4,
   "metadata": {
    "colab": {
     "base_uri": "https://localhost:8080/"
    },
    "id": "xjfPMtpHG4qc",
    "outputId": "e64549cd-787a-4bac-acbf-9176d3df2814"
   },
   "outputs": [
    {
     "name": "stdout",
     "output_type": "stream",
     "text": [
      "Cociente exacto q(x): [Fraction(1267, 2), Fraction(45, 1)]\n",
      "Residuo exacto r(x): [Fraction(-5053, 1), Fraction(17003, 2)]\n",
      "Factor alpha utilizado: 9\n"
     ]
    }
   ],
   "source": [
    "# u(x) = (6)x^3 + (7/15)x^2 - x + 2  → [2, -1, 7/15, 6]\n",
    "# v(x) = (3/2)x^2 - (21)x + 12   → [12, -21, 3/2]\n",
    "\n",
    "u = [Fraction(2), Fraction(-1), Fraction(7, 15), Fraction(6)]\n",
    "v = [Fraction(12), Fraction(-21), Fraction(3, 2)]\n",
    "\n",
    "q, r, alpha = pseudo_division_racional(u, v)\n",
    "\n",
    "print(\"Cociente exacto q(x):\", q)\n",
    "print(\"Residuo exacto r(x):\", r)\n",
    "print(\"Factor alpha utilizado:\", alpha)"
   ]
  },
  {
   "cell_type": "markdown",
   "metadata": {
    "id": "7bJdfg1wnePt"
   },
   "source": [
    "# 2. Máximo común divisor para polinomios.\n"
   ]
  },
  {
   "cell_type": "code",
   "execution_count": 1,
   "metadata": {
    "colab": {
     "base_uri": "https://localhost:8080/",
     "height": 106
    },
    "id": "DKWagGvHng1C",
    "outputId": "16f02f1f-c437-44fb-f434-f843dbf6abf6"
   },
   "outputs": [
    {
     "name": "stdout",
     "output_type": "stream",
     "text": [
      "Resultado: -6*x + 4\n"
     ]
    }
   ],
   "source": [
    "def mcd_primitivo(p, q):\n",
    "    \"\"\"\n",
    "    Algoritmo Euclidiano Primitivo para polinomios con coeficientes enteros.\n",
    "    Entrada: polinomios p y q\n",
    "    Salida: mcd(p, q)\n",
    "    \"\"\"\n",
    "\n",
    "    def contenido(polinomio):\n",
    "        \"\"\"Contenido: MCD de los coeficientes del polinomio\"\"\"\n",
    "        if polinomio == 0:\n",
    "            return 0\n",
    "        coeficientes = [c for c in polinomio.coefficients() if c != 0]\n",
    "        return gcd(coeficientes) if coeficientes else 0\n",
    "\n",
    "    def parte_primitiva(polinomio):\n",
    "        \"\"\"Parte primitiva = polinomio / contenido\"\"\"\n",
    "        cont = contenido(polinomio)\n",
    "        return polinomio // cont if cont != 0 else polinomio\n",
    "\n",
    "    def pseudoresto(u, v):\n",
    "        \"\"\"Pseudoresto de u dividido por v\"\"\"\n",
    "        if v == 0 or u.degree() < v.degree():\n",
    "            return u\n",
    "        lc = v.leading_coefficient()\n",
    "        d = u.degree() - v.degree() + 1\n",
    "        u_mod = (lc^d) * u\n",
    "        _, resto = u_mod.quo_rem(v)\n",
    "        return resto\n",
    "\n",
    "    # Paso 1: calcular el contenido común\n",
    "    c = gcd(contenido(p), contenido(q))\n",
    "\n",
    "    # Paso 2: reducir a partes primitivas\n",
    "    u = parte_primitiva(p)\n",
    "    v = parte_primitiva(q)\n",
    "\n",
    "    # Paso 3: ciclo principal del algoritmo\n",
    "    while v.degree() > 0:\n",
    "        r = pseudoresto(u, v)\n",
    "        u = v\n",
    "        v = parte_primitiva(r)\n",
    "\n",
    "    # Paso 4: resultado final\n",
    "    return c * u if v == 0 else c * v\n",
    "\n",
    "# Ejemplo\n",
    "R.<x> = PolynomialRing(ZZ)\n",
    "p = 54*x^3 - 54*x^2 + 84*x - 48\n",
    "q = -12*x^3 - 28*x^2 + 72*x - 32\n",
    "\n",
    "resultado = mcd_primitivo(p, q)\n",
    "print(f\"Resultado: {resultado}\")"
   ]
  },
  {
   "cell_type": "code",
   "execution_count": 2,
   "metadata": {
    "colab": {
     "base_uri": "https://localhost:8080/",
     "height": 106
    },
    "id": "cDL7Vsffni0C",
    "outputId": "b0a6ff0a-5aea-4656-99b5-f3d168a20148"
   },
   "outputs": [
    {
     "name": "stdout",
     "output_type": "stream",
     "text": [
      "Resultado: x - 2/3\n"
     ]
    }
   ],
   "source": [
    "def mcd_monico(p, q):\n",
    "    \"\"\"\n",
    "    Algoritmo Euclidiano Mónico para polinomios con coeficientes racionales.\n",
    "    Entrada: polinomios p y q donde grado(p) >= grado(q)\n",
    "    Salida: mcd mónico(p, q) sobre los racionales Q\n",
    "    \"\"\"\n",
    "\n",
    "    def hacer_monico(polinomio):\n",
    "        \"\"\"Convierte el polinomio en mónico dividiendo por su coeficiente líder\"\"\"\n",
    "        if polinomio == 0:\n",
    "            return polinomio\n",
    "        return polinomio / polinomio.leading_coefficient()\n",
    "\n",
    "    # Paso 1: hacer p y q mónicos\n",
    "    u = hacer_monico(p)\n",
    "    v = hacer_monico(q)\n",
    "\n",
    "    # Paso 2: ciclo principal\n",
    "    while v.degree() > 0:\n",
    "        _, r = u.quo_rem(v)\n",
    "        u = v\n",
    "        v = hacer_monico(r) if r != 0 else r\n",
    "\n",
    "    # Paso 3: resultado\n",
    "    return u if v == 0 else 1\n",
    "\n",
    "# Ejemplo\n",
    "R.<x> = PolynomialRing(QQ)  # Polinomios con coeficientes racionales\n",
    "p = 54*x^3 - 54*x^2 + 84*x - 48\n",
    "q = -12*x^3 - 28*x^2 + 72*x - 32\n",
    "\n",
    "resultado = mcd_monico(p, q)\n",
    "print(f\"Resultado: {resultado}\")"
   ]
  },
  {
   "cell_type": "code",
   "execution_count": 0,
   "metadata": {},
   "outputs": [],
   "source": []
  },
  {
   "cell_type": "code",
   "execution_count": 0,
   "metadata": {},
   "outputs": [],
   "source": []
  }
 ],
 "metadata": {
  "colab": {
   "provenance": []
  },
  "kernelspec": {
   "display_name": "SageMath 9.3",
   "language": "sage",
   "name": "sagemath"
  },
  "language_info": {
   "codemirror_mode": {
    "name": "ipython",
    "version": 3
   },
   "file_extension": ".py",
   "mimetype": "text/x-python",
   "name": "python",
   "nbconvert_exporter": "python",
   "pygments_lexer": "ipython3",
   "version": "3.7.10"
  }
 },
 "nbformat": 4,
 "nbformat_minor": 4
}
