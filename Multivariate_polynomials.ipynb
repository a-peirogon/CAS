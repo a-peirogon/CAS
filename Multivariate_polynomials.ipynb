{
 "cells": [
  {
   "cell_type": "markdown",
   "metadata": {
    "id": "T5AGgo3QnKpz"
   },
   "source": [
    "<span style='font-size:x-large'>Enunciado.</span>\n",
    "\n",
    "1. Diseñar un algoritmo que permita calcular el MCD para polinomios multivariados con dos variables.\n",
    "\n"
   ]
  },
  {
   "cell_type": "code",
   "execution_count": 1,
   "metadata": {
    "id": "Wo0vK-KEnJY0"
   },
   "outputs": [],
   "source": [
    "Para hallar el MCD de polinomios con dos variables se sigue el **Algoritmo Euclídeo extendido**:\n",
    "\n",
    "1. Elegir una variable principaL.\n",
    "2. Descomponer cada polinomio como polinomio en x con coeficientes en y.\n",
    "3. Calcular el contenido (máximo común divisor de coeficientes).\n",
    "4. Dividir por el contenido → parte primitiva.\n",
    "5. Aplicar pseudo-división entre las partes primitivas.\n",
    "6. Recalcular el contenido del resto y dividir.\n",
    "7. Repetir hasta que el resto sea cero.\n",
    "8. El MCD final es: `gcd(contents) * gcd(primitive parts)`."
   ]
  },
  {
   "cell_type": "markdown",
   "metadata": {},
   "source": [
    "<span style='font-size:x-large'>Desarrollo en Python a detalle </span>\n"
   ]
  },
  {
   "cell_type": "code",
   "execution_count": 1,
   "metadata": {},
   "outputs": [
    {
     "ename": "SyntaxError",
     "evalue": "invalid non-printable character U+00A0 (607009015.py, line 58)",
     "output_type": "error",
     "traceback": [
      "\u001b[0;36m  Cell \u001b[0;32mIn[1], line 58\u001b[0;36m\u001b[0m\n\u001b[0;31m    return {exp: c / coeff for exp, c in f.items()}\u001b[0m\n\u001b[0m                                   ^\u001b[0m\n\u001b[0;31mSyntaxError\u001b[0m\u001b[0;31m:\u001b[0m invalid non-printable character U+00A0\n"
     ]
    }
   ],
   "source": [
    "from collections import defaultdict\n",
    "\n",
    "def clean_poly(p):\n",
    "    return {k: v for k, v in p.items() if v != 0}\n",
    "\n",
    "def leading_term(poly):\n",
    "    return max(poly.keys(), key=lambda exp: (exp[0], exp[1]))\n",
    "\n",
    "def poly_add(p1, p2):\n",
    "    result = defaultdict(int)\n",
    "    for exp, coeff in p1.items():\n",
    "        result[exp] += coeff\n",
    "    for exp, coeff in p2.items():\n",
    "        result[exp] += coeff\n",
    "    return clean_poly(result)\n",
    "\n",
    "def poly_sub(p1, p2):\n",
    "    result = defaultdict(int)\n",
    "    for exp, coeff in p1.items():\n",
    "        result[exp] += coeff\n",
    "    for exp, coeff in p2.items():\n",
    "        result[exp] -= coeff\n",
    "    return clean_poly(result)\n",
    "\n",
    "def poly_mul(p1, p2):\n",
    "    result = defaultdict(int)\n",
    "    for (e1x, e1y), c1 in p1.items():\n",
    "        for (e2x, e2y), c2 in p2.items():\n",
    "            result[(e1x+e2x, e1y+e2y)] += c1 * c2\n",
    "    return clean_poly(result)\n",
    "\n",
    "def poly_divmod_x(f, g):\n",
    "    \"\"\"Divide f entre g respecto a x (como univariado en x)\"\"\"\n",
    "    q = defaultdict(int)\n",
    "    r = f.copy()\n",
    "    while r and max(exp[0] for exp in r) >= max(exp[0] for exp in g):\n",
    "        lx_r = leading_term(r)\n",
    "        lx_g = leading_term(g)\n",
    "        dx = lx_r[0] - lx_g[0]\n",
    "        dy = lx_r[1] - lx_g[1]\n",
    "        if dy != 0 or dx < 0:\n",
    "            break\n",
    "        coeff = r[lx_r] / g[lx_g]\n",
    "        term = {(dx, 0): coeff}\n",
    "        q = poly_add(q, term)\n",
    "        to_subtract = poly_mul(term, g)\n",
    "        r = poly_sub(r, to_subtract)\n",
    "    return clean_poly(q), clean_poly(r)\n",
    "\n",
    "def poly_gcd(f, g):\n",
    "    \"\"\"Calcula el MCD de dos polinomios multivariados usando Euclides\"\"\"\n",
    "    while g:\n",
    "        _, r = poly_divmod_x(f, g)\n",
    "        f, g = g, r\n",
    "    # Normalizar: dividir por coeficiente líder\n",
    "    lt = leading_term(f)\n",
    "    coeff = f[lt]\n",
    "    return {exp: c / coeff for exp, c in f.items()}"
   ]
  },
  {
   "cell_type": "markdown",
   "metadata": {},
   "source": [
    "<span style='font-size:x-large'>SageMath “con funciones predefinidas”</span>\n"
   ]
  },
  {
   "cell_type": "code",
   "execution_count": 3,
   "metadata": {},
   "outputs": [],
   "source": [
    "Ry.<y> = PolynomialRing(QQ)     # Anillo QQ[y]\n",
    "S.<x>  = PolynomialRing(Ry)     # Anillo (QQ[y])[x]\n"
   ]
  },
  {
   "cell_type": "code",
   "execution_count": 17,
   "metadata": {},
   "outputs": [],
   "source": [
    "def gcd_multivariado(u, v, var, verbose=False):\n",
    "    \"\"\"\n",
    "    MCD de u, v en QQ[y][x], tomando 'var' como variable principal.\n",
    "    \"\"\"\n",
    "    if u.is_zero(): \n",
    "        return v\n",
    "    if v.is_zero(): \n",
    "        return u\n",
    "\n",
    "    cont_u = gcd(u.coefficients())\n",
    "    cont_v = gcd(v.coefficients())\n",
    "    g_cont = gcd(cont_u, cont_v)\n",
    "\n",
    "    pp_u = u // cont_u\n",
    "    pp_v = v // cont_v\n",
    "\n",
    "    A, B = pp_u, pp_v\n",
    "\n",
    "    while not B.is_zero():\n",
    "        quo, rem = A.pseudo_quo_rem(B)\n",
    "        if rem.is_zero():\n",
    "            A = B\n",
    "            break\n",
    "        cont_r = gcd(rem.coefficients())\n",
    "        pp_r   = rem // cont_r\n",
    "        A, B   = B, pp_r\n",
    "\n",
    "    return (g_cont * A).factor()\n"
   ]
  },
  {
   "cell_type": "code",
   "execution_count": 16,
   "metadata": {},
   "outputs": [
    {
     "name": "stdout",
     "output_type": "stream",
     "text": [
      "Ejemplo 1 :  gcd((1/2)x^2*y + (3/4)x*y^2, (1/4)x*y) =  (1/4) * y * x\n",
      "Ejemplo 2 : gcd((2/3)x^2 + (4/9)x*y, (8/15)x^2 + (16/45)x*y) =  (8/45) * x * (3*x + 2*y)\n",
      "Ejemplo 3 : gcd(x/2 + y/3, x/4 + y/6) =  (1/12) * (3*x + 2*y)\n"
     ]
    }
   ],
   "source": [
    "# Ejemplo A: gcd((1/2)x^2*y + (3/4)x*y^2, (1/4)x*y) = 1/4*x*y\n",
    "uA = S((1/2)*x^2*y + (3/4)*x*y^2)\n",
    "vA = S((1/4)*x*y)\n",
    "print(\"Ejemplo 1 :  gcd((1/2)x^2*y + (3/4)x*y^2, (1/4)x*y) = \", gcd_multivariado(uA, vA, x))\n",
    "\n",
    "# Ejemplo B: gcd((2/3)x^2 + (4/9)x*y, (8/15)x^2 + (16/45)x*y) = 2/9*x\n",
    "uB = S((2/3)*x^2 + (4/9)*x*y)\n",
    "vB = S((8/15)*x^2 + (16/45)*x*y)\n",
    "print(\"Ejemplo 2 : gcd((2/3)x^2 + (4/9)x*y, (8/15)x^2 + (16/45)x*y) = \", gcd_multivariado(uB, vB, x))\n",
    "\n",
    "# Ejemplo C: gcd(x/2 + y/3, x/4 + y/6) = 1/12*(3*x + 2*y)\n",
    "uC = S(x/2 + y/3)\n",
    "vC = S(x/4 + y/6)\n",
    "print(\"Ejemplo 3 : gcd(x/2 + y/3, x/4 + y/6) = \", gcd_multivariado(uC, vC, x))\n"
   ]
  },
  {
   "cell_type": "code",
   "execution_count": 15,
   "metadata": {},
   "outputs": [
    {
     "data": {
      "text/html": [
       "<html>\\(\\displaystyle \\verb|Ejemplo|\\verb| |\\verb|4|\\verb| |\\verb|:|\\verb| |\\verb|gcd(x^2*y|\\verb| |\\verb|+|\\verb| |\\verb|x*y^2,|\\verb| |\\verb|x*y)|\\verb| |\\verb|=|\\verb| |\\verb|y|\\verb| |\\verb|*|\\verb| |\\verb|x|\\)</html>"
      ],
      "text/latex": [
       "$\\displaystyle \\verb|Ejemplo|\\verb| |\\verb|4|\\verb| |\\verb|:|\\verb| |\\verb|gcd(x^2*y|\\verb| |\\verb|+|\\verb| |\\verb|x*y^2,|\\verb| |\\verb|x*y)|\\verb| |\\verb|=|\\verb| |\\verb|y|\\verb| |\\verb|*|\\verb| |\\verb|x|$"
      ],
      "text/plain": [
       "'Ejemplo 4 : gcd(x^2*y + x*y^2, x*y) = y * x'"
      ]
     },
     "execution_count": 15,
     "metadata": {},
     "output_type": "execute_result"
    },
    {
     "data": {
      "text/html": [
       "<html>\\(\\displaystyle \\verb|Ejemplo|\\verb| |\\verb|5|\\verb| |\\verb|:|\\verb| |\\verb|gcd(x^2|\\verb| |\\verb|+|\\verb| |\\verb|2xy|\\verb| |\\verb|+|\\verb| |\\verb|y^2,|\\verb| |\\verb|x^2|\\verb| |\\verb|-|\\verb| |\\verb|y^2)|\\verb| |\\verb|=|\\verb| |\\verb|(2)|\\verb| |\\verb|*|\\verb| |\\verb|(x|\\verb| |\\verb|+|\\verb| |\\verb|y)|\\)</html>"
      ],
      "text/latex": [
       "$\\displaystyle \\verb|Ejemplo|\\verb| |\\verb|5|\\verb| |\\verb|:|\\verb| |\\verb|gcd(x^2|\\verb| |\\verb|+|\\verb| |\\verb|2xy|\\verb| |\\verb|+|\\verb| |\\verb|y^2,|\\verb| |\\verb|x^2|\\verb| |\\verb|-|\\verb| |\\verb|y^2)|\\verb| |\\verb|=|\\verb| |\\verb|(2)|\\verb| |\\verb|*|\\verb| |\\verb|(x|\\verb| |\\verb|+|\\verb| |\\verb|y)|$"
      ],
      "text/plain": [
       "'Ejemplo 5 : gcd(x^2 + 2xy + y^2, x^2 - y^2) = (2) * (x + y)'"
      ]
     },
     "execution_count": 15,
     "metadata": {},
     "output_type": "execute_result"
    },
    {
     "data": {
      "text/html": [
       "<html>\\(\\displaystyle \\verb|Ejemplo|\\verb| |\\verb|6|\\verb| |\\verb|:|\\verb| |\\verb|gcd(x^3*y^2|\\verb| |\\verb|+|\\verb| |\\verb|x^2*y^3,|\\verb| |\\verb|x^2*y^2)|\\verb| |\\verb|=|\\verb| |\\verb|y^2|\\verb| |\\verb|*|\\verb| |\\verb|x^2|\\)</html>"
      ],
      "text/latex": [
       "$\\displaystyle \\verb|Ejemplo|\\verb| |\\verb|6|\\verb| |\\verb|:|\\verb| |\\verb|gcd(x^3*y^2|\\verb| |\\verb|+|\\verb| |\\verb|x^2*y^3,|\\verb| |\\verb|x^2*y^2)|\\verb| |\\verb|=|\\verb| |\\verb|y^2|\\verb| |\\verb|*|\\verb| |\\verb|x^2|$"
      ],
      "text/plain": [
       "'Ejemplo 6 : gcd(x^3*y^2 + x^2*y^3, x^2*y^2) = y^2 * x^2'"
      ]
     },
     "execution_count": 15,
     "metadata": {},
     "output_type": "execute_result"
    }
   ],
   "source": [
    "# Ejemplo 1: u = x^2*y + x*y^2, v = x*y  \n",
    "u1 = S(x^2*y + x*y^2)\n",
    "v1 = S(x*y)\n",
    "g1 = gcd_multivariado(u1, v1, x)\n",
    "show(f\"Ejemplo 4 : gcd(x^2*y + x*y^2, x*y) = {g1}\")   \n",
    "\n",
    "# Ejemplo 2: u = x^2 + 2*x*y + y^2, v = x^2 - y^2  \n",
    "u2 = S(x^2 + 2*x*y + y^2)\n",
    "v2 = S(x^2 - y^2)\n",
    "g2 = gcd_multivariado(u2, v2, x)\n",
    "show(f\"Ejemplo 5 : gcd(x^2 + 2xy + y^2, x^2 - y^2) = {g2}\")   \n",
    "\n",
    "# Ejemplo 3: u = x^3*y^2 + x^2*y^3, v = x^2*y^2  \n",
    "u3 = S(x^3*y^2 + x^2*y^3)\n",
    "v3 = S(x^2*y^2)\n",
    "g3 = gcd_multivariado(u3, v3, x)\n",
    "show(f\"Ejemplo 6 : gcd(x^3*y^2 + x^2*y^3, x^2*y^2) = {g3}\")   "
   ]
  },
  {
   "cell_type": "code",
   "execution_count": 14,
   "metadata": {},
   "outputs": [
    {
     "data": {
      "text/html": [
       "<html>\\(\\displaystyle \\verb|Ejemplo|\\verb| |\\verb|7|\\verb| |\\verb|:|\\verb| |\\verb|gcd|\\verb| |\\verb|=|\\verb| |\\verb|x|\\verb| |\\verb|+|\\verb| |\\verb|y|\\verb| |\\verb|+|\\verb| |\\verb|1|\\)</html>"
      ],
      "text/latex": [
       "$\\displaystyle \\verb|Ejemplo|\\verb| |\\verb|7|\\verb| |\\verb|:|\\verb| |\\verb|gcd|\\verb| |\\verb|=|\\verb| |\\verb|x|\\verb| |\\verb|+|\\verb| |\\verb|y|\\verb| |\\verb|+|\\verb| |\\verb|1|$"
      ],
      "text/plain": [
       "'Ejemplo 7 : gcd = x + y + 1'"
      ]
     },
     "execution_count": 14,
     "metadata": {},
     "output_type": "execute_result"
    },
    {
     "data": {
      "text/html": [
       "<html>\\(\\displaystyle \\verb|Ejemplo|\\verb| |\\verb|8|\\verb| |\\verb|:|\\verb| |\\verb|gcd|\\verb| |\\verb|=|\\verb| |\\verb|-8*y^3|\\)</html>"
      ],
      "text/latex": [
       "$\\displaystyle \\verb|Ejemplo|\\verb| |\\verb|8|\\verb| |\\verb|:|\\verb| |\\verb|gcd|\\verb| |\\verb|=|\\verb| |\\verb|-8*y^3|$"
      ],
      "text/plain": [
       "'Ejemplo 8 : gcd = -8*y^3'"
      ]
     },
     "execution_count": 14,
     "metadata": {},
     "output_type": "execute_result"
    },
    {
     "data": {
      "text/html": [
       "<html>\\(\\displaystyle \\verb|Ejemplo|\\verb| |\\verb|9|\\verb| |\\verb|:|\\verb| |\\verb|gcd|\\verb| |\\verb|=|\\verb| |\\verb|(-3)|\\verb| |\\verb|*|\\verb| |\\verb|(x|\\verb| |\\verb|+|\\verb| |\\verb|y)|\\verb| |\\verb|*|\\verb| |\\verb|(x|\\verb| |\\verb|+|\\verb| |\\verb|2*y)|\\)</html>"
      ],
      "text/latex": [
       "$\\displaystyle \\verb|Ejemplo|\\verb| |\\verb|9|\\verb| |\\verb|:|\\verb| |\\verb|gcd|\\verb| |\\verb|=|\\verb| |\\verb|(-3)|\\verb| |\\verb|*|\\verb| |\\verb|(x|\\verb| |\\verb|+|\\verb| |\\verb|y)|\\verb| |\\verb|*|\\verb| |\\verb|(x|\\verb| |\\verb|+|\\verb| |\\verb|2*y)|$"
      ],
      "text/plain": [
       "'Ejemplo 9 : gcd = (-3) * (x + y) * (x + 2*y)'"
      ]
     },
     "execution_count": 14,
     "metadata": {},
     "output_type": "execute_result"
    }
   ],
   "source": [
    "# Ejemplo 4: \n",
    "# u = (x + y + 1)*(x^2 - y),   v = (x + y + 1)*(x - y^2)\n",
    "\n",
    "u4 = S((x + y + 1)*(x^2 - y))\n",
    "v4 = S((x + y + 1)*(x - y^2))\n",
    "g4 = gcd_multivariado(u4, v4, x)\n",
    "show(f\"Ejemplo 7 : gcd = {g4}\")   # esperado: x + y + 1\n",
    "\n",
    "# Ejemplo 5: \n",
    "# u = x^3*y^3 + 2*x*y^3 + y^3,   v = x^2*y^3 - y^3\n",
    "\n",
    "u5 = S(x^3*y^3 + 2*x*y^3 + y^3)\n",
    "v5 = S(x^2*y^3 - y^3)\n",
    "g5 = gcd_multivariado(u5, v5, x)\n",
    "show(f\"Ejemplo 8 : gcd = {g5}\")   \n",
    "\n",
    "# Ejemplo 6: \n",
    "# u = (x^2 + 3*x*y + 2*y^2)*(x - 2*y),  \n",
    "# v = (x^2 + 3*x*y + 2*y^2)*(x + y)\n",
    "\n",
    "base = x^2 + 3*x*y + 2*y^2\n",
    "u6   = S(base * (x - 2*y))\n",
    "v6   = S(base * (x + y))\n",
    "g6   = gcd_multivariado(u6, v6, x)\n",
    "show(f\"Ejemplo 9 : gcd = {g6}\")  \n"
   ]
  },
  {
   "cell_type": "markdown",
   "metadata": {
    "id": "7bJdfg1wnePt"
   },
   "source": []
  }
 ],
 "metadata": {
  "colab": {
   "provenance": []
  },
  "kernelspec": {
   "display_name": "SageMath 9.3",
   "language": "sage",
   "name": "sagemath"
  },
  "language_info": {
   "codemirror_mode": {
    "name": "ipython",
    "version": 3
   },
   "file_extension": ".py",
   "mimetype": "text/x-python",
   "name": "python",
   "nbconvert_exporter": "python",
   "pygments_lexer": "ipython3",
   "version": "3.7.10"
  }
 },
 "nbformat": 4,
 "nbformat_minor": 4
}
