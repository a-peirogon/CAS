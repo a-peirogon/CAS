{
 "cells": [
  {
   "cell_type": "markdown",
   "metadata": {
    "id": "iCa9er75Lu_J"
   },
   "source": [
    "**1. Algoritmo de la suma**"
   ]
  },
  {
   "cell_type": "code",
   "execution_count": null,
   "metadata": {
    "id": "ySKrC3M1Lu_K",
    "outputId": "b63459b4-853e-4baf-ddcb-90fae8748252"
   },
   "outputs": [
    {
     "name": "stdout",
     "output_type": "stream",
     "text": [
      "Suma: 12345678901234567890 + 9876543210987654321 = 22222222112222222211\n"
     ]
    }
   ],
   "source": [
    "def sumar(numero1, numero2, base=10):\n",
    "    # Convertir las cadenas a listas de dígitos (enteros)\n",
    "    digitos1 = [int(d) for d in reversed(numero1)]\n",
    "    digitos2 = [int(d) for d in reversed(numero2)]\n",
    "\n",
    "    # Asegurar que ambas listas tienen la misma longitud\n",
    "    longitud_maxima = max(len(digitos1), len(digitos2))\n",
    "    digitos1 += [0] * (longitud_maxima - len(digitos1))\n",
    "    digitos2 += [0] * (longitud_maxima - len(digitos2))\n",
    "\n",
    "    # Verificar límite de dígitos\n",
    "    if longitud_maxima > 20:\n",
    "        return \"Error: Número demasiado grande (máximo 20 dígitos)\"\n",
    "\n",
    "    resultado = []\n",
    "    acarreo = 0\n",
    "\n",
    "    # Sumar dígito por dígito\n",
    "    for d1, d2 in zip(digitos1, digitos2):\n",
    "        suma = d1 + d2 + acarreo\n",
    "        resultado.append(suma % base)\n",
    "        acarreo = suma // base\n",
    "\n",
    "    # Añadir el acarreo final si existe\n",
    "    if acarreo > 0:\n",
    "        resultado.append(acarreo)\n",
    "\n",
    "    # Convertir el resultado a cadena (invertir el orden)\n",
    "    resultado_str = ''.join(map(str, reversed(resultado)))\n",
    "\n",
    "    return resultado_str\n",
    "\n",
    "# Ejemplo:\n",
    "numero_a = \"12345678901234567890\"\n",
    "numero_b = \"9876543210987654321\"\n",
    "print(f\"Suma: {numero_a} + {numero_b} = {sumar(numero_a, numero_b)}\")"
   ]
  },
  {
   "cell_type": "markdown",
   "metadata": {
    "id": "BPCSpVn4CiKN"
   },
   "source": [
    "**2. Algoritmo de la resta**"
   ]
  },
  {
   "cell_type": "code",
   "execution_count": null,
   "metadata": {
    "colab": {
     "base_uri": "https://localhost:8080/"
    },
    "id": "klUbNErZ8tC3",
    "outputId": "50d34295-252c-4265-b03c-648afe2e1b76"
   },
   "outputs": [
    {
     "name": "stdout",
     "output_type": "stream",
     "text": [
      "Overwriting resta_big.c\n"
     ]
    }
   ],
   "source": [
    "%%writefile resta_big.c\n",
    "#include <stdio.h>\n",
    "#include <string.h>\n",
    "#include <stdlib.h>\n",
    "\n",
    "#define MAX_DIGITOS 20\n",
    "\n",
    "//comparamos dos cadenas numéricas como enteros\n",
    "int comparar(const char *a, const char *b) {\n",
    "    int len_a = strlen(a);\n",
    "    int len_b = strlen(b);\n",
    "    if (len_a != len_b) return len_a - len_b;\n",
    "    return strcmp(a, b);  // strcmp devuelve < 0 si a < b, 0 si a == b, > 0 si a > b\n",
    "}\n",
    "\n",
    "void resta(const char *u_str, const char *v_str, int base) {\t//base 10\n",
    "    int u[MAX_DIGITOS] = {0}, v[MAX_DIGITOS] = {0}, w[MAX_DIGITOS] = {0};\n",
    "    int negativo = 0;\n",
    "\n",
    "    //si u < v, intercambiamos u y v y ponemos el signo negativo\n",
    "    if (comparar(u_str, v_str) < 0) {\n",
    "        const char *temp = u_str;\n",
    "        u_str = v_str;\n",
    "        v_str = temp;\n",
    "        negativo = 1;\n",
    "    }\n",
    "    int len_u = strlen(u_str), len_v = strlen(v_str);\n",
    "\n",
    "    for (int i = 0; i < len_u; i++) u[i] = u_str[len_u - 1 - i] - '0';\t// restamos '0' (ASCII) para convertir de manera segura el carácter dígito al l valor numérico\n",
    "    for (int i = 0; i < len_v; i++) v[i] = v_str[len_v - 1 - i] - '0';\n",
    "\n",
    "    int k = 0;\n",
    "    for (int i = 0; i < MAX_DIGITOS; i++) {\n",
    "        int dif = u[i] - v[i] + k;\n",
    "        if (dif < 0) {\n",
    "            w[i] = (dif + base) % base;\t//hacemos módulo para asegurarnos que está entre 0 y base-1\n",
    "            k = -1;\n",
    "        } else {\n",
    "            w[i] = dif % base;\n",
    "            k = 0;\n",
    "        }\n",
    "    }\n",
    "\n",
    "    int inicio = MAX_DIGITOS - 1;\n",
    "    while (inicio > 0 && w[inicio] == 0) inicio--;\t//borramos los ceros a la izquierda\n",
    "\n",
    "    printf(\"Resultado: \");\n",
    "    if (negativo) printf(\"-\");\n",
    "    for (int i = inicio; i >= 0; i--) printf(\"%d\", w[i]);\n",
    "    printf(\"\\n\");\n",
    "}\n",
    "\n",
    "int main(int argc, char *argv[]) {\n",
    "    if (argc != 3) {\n",
    "        fprintf(stderr, \"Uso: %s <u> <v>\\n\", argv[0]);\n",
    "        return 1;\n",
    "    }\n",
    "    resta(argv[1], argv[2], 10);\n",
    "    return 0;\n",
    "}\n"
   ]
  },
  {
   "cell_type": "code",
   "execution_count": null,
   "metadata": {
    "id": "vQKeOXwD-G1Q"
   },
   "outputs": [],
   "source": [
    "!gcc resta_big.c -o resta_big\n"
   ]
  },
  {
   "cell_type": "code",
   "execution_count": null,
   "metadata": {
    "colab": {
     "base_uri": "https://localhost:8080/"
    },
    "id": "mDbCfZy3-IIZ",
    "outputId": "c7816e54-2742-41cb-83fb-fe65ddd14079"
   },
   "outputs": [
    {
     "name": "stdout",
     "output_type": "stream",
     "text": [
      "Resultado: -11\n"
     ]
    }
   ],
   "source": [
    "!./resta_big 13 24\n"
   ]
  },
  {
   "cell_type": "markdown",
   "metadata": {
    "id": "cqrK2_vgMWjN"
   },
   "source": [
    "**3. Multiplicación**"
   ]
  },
  {
   "cell_type": "code",
   "execution_count": 2,
   "metadata": {
    "colab": {
     "base_uri": "https://localhost:8080/"
    },
    "id": "mSC6acRiMZYq",
    "outputId": "721609c8-1c2a-45d4-d3c9-938711a97dfc"
   },
   "outputs": [
    {
     "name": "stdout",
     "output_type": "stream",
     "text": [
      "Multiplicación: 45345678401294563890 × 93765632109896545210 = 4251866198749467797816217043064618466900\n"
     ]
    }
   ],
   "source": [
    "def multiplicar(numero1, numero2, base=10):\n",
    "    # Verificar límite de dígitos\n",
    "    if len(numero1) > 20 or len(numero2) > 20:\n",
    "        return \"Error: Número demasiado grande (máximo 20 dígitos)\"\n",
    "\n",
    "    # Convertir las cadenas a listas de dígitos (enteros), en orden invertido\n",
    "    digitos1 = [int(d) for d in reversed(numero1)]\n",
    "    digitos2 = [int(d) for d in reversed(numero2)]\n",
    "\n",
    "    # Crear una lista para el resultado (máximo len1 + len2 dígitos)\n",
    "    resultado = [0] * (len(digitos1) + len(digitos2))\n",
    "\n",
    "    # Multiplicar dígito por dígito\n",
    "    for i in range(len(digitos1)):\n",
    "        for j in range(len(digitos2)):\n",
    "            producto = digitos1[i] * digitos2[j]\n",
    "            resultado[i + j] += producto\n",
    "            # Manejo del acarreo\n",
    "            if resultado[i + j] >= base:\n",
    "                resultado[i + j + 1] += resultado[i + j] // base\n",
    "                resultado[i + j] %= base\n",
    "\n",
    "    # Eliminar ceros finales innecesarios (del lado izquierdo)\n",
    "    while len(resultado) > 1 and resultado[-1] == 0:\n",
    "        resultado.pop()\n",
    "\n",
    "    # Convertir el resultado a cadena (orden correcto)\n",
    "    resultado_str = ''.join(map(str, reversed(resultado)))\n",
    "\n",
    "    return resultado_str\n",
    "\n",
    "# Ejemplo:\n",
    "numero_a = \"45345678401294563890\"\n",
    "numero_b = \"93765632109896545210\"\n",
    "print(f\"Multiplicación: {numero_a} × {numero_b} = {multiplicar(numero_a, numero_b)}\")\n"
   ]
  },
  {
   "cell_type": "markdown",
   "metadata": {
    "id": "VEbbjN0YPbf3"
   },
   "source": [
    "**4. División**"
   ]
  },
  {
   "cell_type": "code",
   "execution_count": null,
   "metadata": {
    "colab": {
     "base_uri": "https://localhost:8080/"
    },
    "id": "sO18P8pPPa5Z",
    "outputId": "0e321d91-45ae-4e87-fa24-6c280af75b1e"
   },
   "outputs": [
    {
     "name": "stdout",
     "output_type": "stream",
     "text": [
      "Dividendo: 456\n",
      "Divisor:   54\n",
      "Cociente: 8\n",
      "Resto:    24\n"
     ]
    }
   ],
   "source": [
    "BASE = 10\n",
    "\n",
    "def cadena_a_digitos(cadena):\n",
    "    return [int(c) for c in reversed(cadena.strip())]\n",
    "\n",
    "def digitos_a_cadena(lista):\n",
    "    # Elimina ceros altos\n",
    "    while len(lista) > 1 and lista[-1] == 0:\n",
    "        lista.pop()\n",
    "    return ''.join(str(d) for d in reversed(lista))\n",
    "\n",
    "def multiplicar_por_digito(dividendo, d):\n",
    "    acarreo = 0\n",
    "    for i in range(len(dividendo)):\n",
    "        prod = dividendo[i] * d + acarreo\n",
    "        dividendo[i] = prod % BASE\n",
    "        acarreo = prod // BASE\n",
    "    if acarreo > 0:\n",
    "        dividendo.append(acarreo)\n",
    "\n",
    "def restar_producto(dividendo, indice, divisor, coc_prueba):\n",
    "\n",
    "    prestamo = 0\n",
    "    acarreo = 0\n",
    "    n = len(divisor)\n",
    "    # Resta v * qt\n",
    "    for k in range(n):\n",
    "        acarreo += divisor[k] * coc_prueba\n",
    "        dig = acarreo % BASE\n",
    "        acarreo //= BASE\n",
    "        pos = indice + k\n",
    "        diff = dividendo[pos] - dig - prestamo\n",
    "        if diff < 0:\n",
    "            diff += BASE\n",
    "            prestamo = 1\n",
    "        else:\n",
    "            prestamo = 0\n",
    "        dividendo[pos] = diff\n",
    "\n",
    "    # Restar acarreo remanente\n",
    "    pos = indice + n\n",
    "    while acarreo or prestamo:\n",
    "        cur = dividendo[pos] - (acarreo % BASE) - prestamo\n",
    "        acarreo //= BASE\n",
    "        if cur < 0:\n",
    "            dividendo[pos] = cur + BASE\n",
    "            prestamo = 1\n",
    "        else:\n",
    "            dividendo[pos] = cur\n",
    "            prestamo = 0\n",
    "        pos += 1\n",
    "\n",
    "    return prestamo == 1\n",
    "\n",
    "def dividir_cociente_prueba(dividendo0, divisor0):\n",
    "    # Copiar listas de dígitos\n",
    "    dividendo = dividendo0[:]\n",
    "    divisor   = divisor0[:]\n",
    "    n = len(divisor)\n",
    "    m = len(dividendo) - n\n",
    "\n",
    "    # 1) Normalización\n",
    "    d = BASE // (divisor[-1] + 1)\n",
    "    multiplicar_por_digito(dividendo, d)\n",
    "    multiplicar_por_digito(divisor, d)\n",
    "    # Asegurar espacio extra para el paso de resta\n",
    "    if len(dividendo) < m + n + 1:\n",
    "        dividendo += [0] * ((m + n + 1) - len(dividendo))\n",
    "\n",
    "    # 2) Preparar lista del cociente\n",
    "    cociente = [0] * (m + 1)\n",
    "\n",
    "    # 3) Bucle principal: j = m … 0\n",
    "    for j in range(m, -1, -1):\n",
    "        # 3.1 Estimación inicial (dos dígitos más altos)\n",
    "        tope = dividendo[j+n] * BASE + dividendo[j+n-1]\n",
    "        coc_prueba = min(tope // divisor[-1], BASE - 1)\n",
    "\n",
    "        # 3.2 Corrección como máximo dos veces\n",
    "        if n > 1:\n",
    "            resto_estim = tope % divisor[-1]\n",
    "            while coc_prueba * divisor[-2] > resto_estim * BASE + dividendo[j+n-2]:\n",
    "                coc_prueba -= 1\n",
    "                resto_estim += divisor[-1]\n",
    "                if resto_estim >= BASE:\n",
    "                    break\n",
    "\n",
    "        # 3.3 Restar el producto y, si hay borrow, corregir de nuevo\n",
    "        if restar_producto(dividendo, j, divisor, coc_prueba):\n",
    "            coc_prueba -= 1\n",
    "            # Revertir un paso: sumar divisor desplazado\n",
    "            acarreo = 0\n",
    "            for k in range(n):\n",
    "                suma = dividendo[j+k] + divisor[k] + acarreo\n",
    "                dividendo[j+k] = suma % BASE\n",
    "                acarreo = suma // BASE\n",
    "            dividendo[j+n] += acarreo\n",
    "\n",
    "        cociente[j] = coc_prueba\n",
    "\n",
    "    # 4) Desnormalizar el resto\n",
    "    resto_norm = dividendo[:n]\n",
    "    acarreo = 0\n",
    "    for i in range(n-1, -1, -1):\n",
    "        cur = resto_norm[i] + acarreo * BASE\n",
    "        resto_norm[i] = cur // d\n",
    "        acarreo = cur % d\n",
    "\n",
    "    # Quitar ceros altos\n",
    "    while len(cociente) > 1 and cociente[-1] == 0:\n",
    "        cociente.pop()\n",
    "    while len(resto_norm) > 1 and resto_norm[-1] == 0:\n",
    "        resto_norm.pop()\n",
    "\n",
    "    return cociente, resto_norm\n",
    "\n",
    "if __name__ == \"__main__\":\n",
    "    A = cadena_a_digitos(input(\"Dividendo: \"))\n",
    "    Bv = cadena_a_digitos(input(\"Divisor:   \"))\n",
    "    Q, R = dividir_cociente_prueba(A, Bv)\n",
    "    print(\"Cociente:\", digitos_a_cadena(Q))\n",
    "    print(\"Resto:   \", digitos_a_cadena(R))\n"
   ]
  }
 ],
 "metadata": {
  "colab": {
   "provenance": []
  },
  "kernelspec": {
   "display_name": "Python 3",
   "language": "python",
   "name": "python3"
  },
  "language_info": {
   "codemirror_mode": {
    "name": "ipython",
    "version": 3
   },
   "file_extension": ".py",
   "mimetype": "text/x-python",
   "name": "python",
   "nbconvert_exporter": "python",
   "pygments_lexer": "ipython3",
   "version": "3.7.10"
  }
 },
 "nbformat": 4,
 "nbformat_minor": 1
}
